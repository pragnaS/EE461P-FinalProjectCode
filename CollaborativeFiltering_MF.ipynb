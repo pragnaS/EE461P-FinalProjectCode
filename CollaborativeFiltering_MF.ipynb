{
  "nbformat": 4,
  "nbformat_minor": 0,
  "metadata": {
    "colab": {
      "name": "CollaborativeFiltering-MF.ipynb",
      "provenance": []
    },
    "kernelspec": {
      "name": "python3",
      "display_name": "Python 3"
    },
    "language_info": {
      "name": "python"
    }
  },
  "cells": [
    {
      "cell_type": "code",
      "metadata": {
        "colab": {
          "base_uri": "https://localhost:8080/"
        },
        "id": "RVEDvahySOMX",
        "outputId": "6fd2e3ff-32f9-42dd-b285-60abb0f9d9a8"
      },
      "source": [
        "pip install scikit-surprise"
      ],
      "execution_count": null,
      "outputs": [
        {
          "output_type": "stream",
          "text": [
            "Collecting scikit-surprise\n",
            "\u001b[?25l  Downloading https://files.pythonhosted.org/packages/97/37/5d334adaf5ddd65da99fc65f6507e0e4599d092ba048f4302fe8775619e8/scikit-surprise-1.1.1.tar.gz (11.8MB)\n",
            "\u001b[K     |████████████████████████████████| 11.8MB 6.7MB/s \n",
            "\u001b[?25hRequirement already satisfied: joblib>=0.11 in /usr/local/lib/python3.7/dist-packages (from scikit-surprise) (1.0.1)\n",
            "Requirement already satisfied: numpy>=1.11.2 in /usr/local/lib/python3.7/dist-packages (from scikit-surprise) (1.19.5)\n",
            "Requirement already satisfied: scipy>=1.0.0 in /usr/local/lib/python3.7/dist-packages (from scikit-surprise) (1.4.1)\n",
            "Requirement already satisfied: six>=1.10.0 in /usr/local/lib/python3.7/dist-packages (from scikit-surprise) (1.15.0)\n",
            "Building wheels for collected packages: scikit-surprise\n",
            "  Building wheel for scikit-surprise (setup.py) ... \u001b[?25l\u001b[?25hdone\n",
            "  Created wheel for scikit-surprise: filename=scikit_surprise-1.1.1-cp37-cp37m-linux_x86_64.whl size=1617590 sha256=81862b383d2211dd6475029348fa4b73288a7319a4957bb6a5e3ebe48fee8022\n",
            "  Stored in directory: /root/.cache/pip/wheels/78/9c/3d/41b419c9d2aff5b6e2b4c0fc8d25c538202834058f9ed110d0\n",
            "Successfully built scikit-surprise\n",
            "Installing collected packages: scikit-surprise\n",
            "Successfully installed scikit-surprise-1.1.1\n"
          ],
          "name": "stdout"
        }
      ]
    },
    {
      "cell_type": "code",
      "metadata": {
        "id": "S5ofyGDiSh-y"
      },
      "source": [
        "import pandas as pd\n",
        "import numpy as np\n",
        "from surprise import SVD\n",
        "from surprise import Dataset\n",
        "from surprise.model_selection import cross_validate\n",
        "from sklearn.model_selection import cross_val_score\n",
        "\n",
        "#load in data from MovieLens 1M dataset\n",
        "ratings = pd.read_csv('ratings.dat') # reading data in pandas df\n",
        "\n",
        "from surprise import Reader, Dataset\n",
        "\n",
        "compiled_movie_ratings = pd.read_csv('ratings.dat', delimiter='::', header=None, \n",
        "    names=['user_id', 'movie_id', 'rating', 'timestamp'], \n",
        "    usecols=['user_id', 'movie_id', 'rating'], engine='python')\n",
        "\n",
        "df = pd.DataFrame(compiled_movie_ratings)\n",
        "\n",
        "# Reader class is used to parse file with ratings.\n",
        "reader = Reader(rating_scale=(0.5, 5.0))\n",
        "\n",
        "# Load data into columns corresponding to userId, movieId, and rating\n",
        "data = Dataset.load_from_df(df[['user_id', 'movie_id', 'rating']], reader)"
      ],
      "execution_count": null,
      "outputs": []
    },
    {
      "cell_type": "code",
      "metadata": {
        "colab": {
          "base_uri": "https://localhost:8080/"
        },
        "id": "EzsDjDPJTkWA",
        "outputId": "d53135b8-0654-4169-dfa9-9926e6fb3639"
      },
      "source": [
        "# Use SVD(Singluar Value Decomposition)\n",
        "algo = SVD()\n",
        "\n",
        "# Run 10-fold cross-validation and display results\n",
        "cross_validate(algo, data, measures=['RMSE', 'MAE'], cv=10, verbose=True)\n"
      ],
      "execution_count": null,
      "outputs": [
        {
          "output_type": "stream",
          "text": [
            "Evaluating RMSE, MAE of algorithm SVD on 10 split(s).\n",
            "\n",
            "                  Fold 1  Fold 2  Fold 3  Fold 4  Fold 5  Fold 6  Fold 7  Fold 8  Fold 9  Fold 10 Mean    Std     \n",
            "RMSE (testset)    0.8646  0.8643  0.8654  0.8677  0.8643  0.8653  0.8642  0.8660  0.8679  0.8671  0.8657  0.0014  \n",
            "MAE (testset)     0.6792  0.6776  0.6796  0.6805  0.6780  0.6786  0.6777  0.6790  0.6804  0.6806  0.6791  0.0011  \n",
            "Fit time          45.64   46.04   45.91   45.96   45.78   45.87   45.93   45.68   45.77   45.98   45.86   0.13    \n",
            "Test time         1.07    1.33    1.33    1.32    1.32    1.28    1.32    1.35    1.34    1.37    1.30    0.08    \n"
          ],
          "name": "stdout"
        },
        {
          "output_type": "execute_result",
          "data": {
            "text/plain": [
              "{'fit_time': (45.64138579368591,\n",
              "  46.04472470283508,\n",
              "  45.90827035903931,\n",
              "  45.96029019355774,\n",
              "  45.783713579177856,\n",
              "  45.86996841430664,\n",
              "  45.93016242980957,\n",
              "  45.68323874473572,\n",
              "  45.7692084312439,\n",
              "  45.983171463012695),\n",
              " 'test_mae': array([0.67917546, 0.6775784 , 0.67957469, 0.68046711, 0.6780089 ,\n",
              "        0.67863753, 0.6777457 , 0.679049  , 0.68035641, 0.68057448]),\n",
              " 'test_rmse': array([0.86464794, 0.86433253, 0.86535382, 0.86767299, 0.86428737,\n",
              "        0.86527028, 0.86415853, 0.8660245 , 0.86786383, 0.86710526]),\n",
              " 'test_time': (1.0707981586456299,\n",
              "  1.3263359069824219,\n",
              "  1.3273296356201172,\n",
              "  1.3176758289337158,\n",
              "  1.3212380409240723,\n",
              "  1.2835979461669922,\n",
              "  1.3151073455810547,\n",
              "  1.3453702926635742,\n",
              "  1.3396239280700684,\n",
              "  1.3744242191314697)}"
            ]
          },
          "metadata": {
            "tags": []
          },
          "execution_count": 24
        }
      ]
    }
  ]
}