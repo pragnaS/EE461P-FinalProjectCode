{
 "cells": [
  {
   "cell_type": "markdown",
   "metadata": {},
   "source": [
    "https://towardsdatascience.com/how-to-build-a-movie-recommendation-system-67e321339109\n",
    "\n",
    "IMPORT AND SET UP DATASET"
   ]
  },
  {
   "cell_type": "code",
   "execution_count": 1,
   "metadata": {},
   "outputs": [
    {
     "data": {
      "text/html": [
       "<div>\n",
       "<style scoped>\n",
       "    .dataframe tbody tr th:only-of-type {\n",
       "        vertical-align: middle;\n",
       "    }\n",
       "\n",
       "    .dataframe tbody tr th {\n",
       "        vertical-align: top;\n",
       "    }\n",
       "\n",
       "    .dataframe thead th {\n",
       "        text-align: right;\n",
       "    }\n",
       "</style>\n",
       "<table border=\"1\" class=\"dataframe\">\n",
       "  <thead>\n",
       "    <tr style=\"text-align: right;\">\n",
       "      <th></th>\n",
       "      <th>userId</th>\n",
       "      <th>movieId</th>\n",
       "      <th>rating</th>\n",
       "      <th>timestamp</th>\n",
       "    </tr>\n",
       "  </thead>\n",
       "  <tbody>\n",
       "    <tr>\n",
       "      <th>0</th>\n",
       "      <td>1</td>\n",
       "      <td>1</td>\n",
       "      <td>4.0</td>\n",
       "      <td>964982703</td>\n",
       "    </tr>\n",
       "    <tr>\n",
       "      <th>1</th>\n",
       "      <td>1</td>\n",
       "      <td>3</td>\n",
       "      <td>4.0</td>\n",
       "      <td>964981247</td>\n",
       "    </tr>\n",
       "    <tr>\n",
       "      <th>2</th>\n",
       "      <td>1</td>\n",
       "      <td>6</td>\n",
       "      <td>4.0</td>\n",
       "      <td>964982224</td>\n",
       "    </tr>\n",
       "    <tr>\n",
       "      <th>3</th>\n",
       "      <td>1</td>\n",
       "      <td>47</td>\n",
       "      <td>5.0</td>\n",
       "      <td>964983815</td>\n",
       "    </tr>\n",
       "    <tr>\n",
       "      <th>4</th>\n",
       "      <td>1</td>\n",
       "      <td>50</td>\n",
       "      <td>5.0</td>\n",
       "      <td>964982931</td>\n",
       "    </tr>\n",
       "    <tr>\n",
       "      <th>...</th>\n",
       "      <td>...</td>\n",
       "      <td>...</td>\n",
       "      <td>...</td>\n",
       "      <td>...</td>\n",
       "    </tr>\n",
       "    <tr>\n",
       "      <th>100831</th>\n",
       "      <td>610</td>\n",
       "      <td>166534</td>\n",
       "      <td>4.0</td>\n",
       "      <td>1493848402</td>\n",
       "    </tr>\n",
       "    <tr>\n",
       "      <th>100832</th>\n",
       "      <td>610</td>\n",
       "      <td>168248</td>\n",
       "      <td>5.0</td>\n",
       "      <td>1493850091</td>\n",
       "    </tr>\n",
       "    <tr>\n",
       "      <th>100833</th>\n",
       "      <td>610</td>\n",
       "      <td>168250</td>\n",
       "      <td>5.0</td>\n",
       "      <td>1494273047</td>\n",
       "    </tr>\n",
       "    <tr>\n",
       "      <th>100834</th>\n",
       "      <td>610</td>\n",
       "      <td>168252</td>\n",
       "      <td>5.0</td>\n",
       "      <td>1493846352</td>\n",
       "    </tr>\n",
       "    <tr>\n",
       "      <th>100835</th>\n",
       "      <td>610</td>\n",
       "      <td>170875</td>\n",
       "      <td>3.0</td>\n",
       "      <td>1493846415</td>\n",
       "    </tr>\n",
       "  </tbody>\n",
       "</table>\n",
       "<p>100836 rows × 4 columns</p>\n",
       "</div>"
      ],
      "text/plain": [
       "        userId  movieId  rating   timestamp\n",
       "0            1        1     4.0   964982703\n",
       "1            1        3     4.0   964981247\n",
       "2            1        6     4.0   964982224\n",
       "3            1       47     5.0   964983815\n",
       "4            1       50     5.0   964982931\n",
       "...        ...      ...     ...         ...\n",
       "100831     610   166534     4.0  1493848402\n",
       "100832     610   168248     5.0  1493850091\n",
       "100833     610   168250     5.0  1494273047\n",
       "100834     610   168252     5.0  1493846352\n",
       "100835     610   170875     3.0  1493846415\n",
       "\n",
       "[100836 rows x 4 columns]"
      ]
     },
     "execution_count": 1,
     "metadata": {},
     "output_type": "execute_result"
    }
   ],
   "source": [
    "import pandas as pd\n",
    "data = pd.read_csv(\"ratings.csv\")\n",
    "data\n"
   ]
  },
  {
   "cell_type": "code",
   "execution_count": 2,
   "metadata": {},
   "outputs": [
    {
     "data": {
      "text/html": [
       "<div>\n",
       "<style scoped>\n",
       "    .dataframe tbody tr th:only-of-type {\n",
       "        vertical-align: middle;\n",
       "    }\n",
       "\n",
       "    .dataframe tbody tr th {\n",
       "        vertical-align: top;\n",
       "    }\n",
       "\n",
       "    .dataframe thead th {\n",
       "        text-align: right;\n",
       "    }\n",
       "</style>\n",
       "<table border=\"1\" class=\"dataframe\">\n",
       "  <thead>\n",
       "    <tr style=\"text-align: right;\">\n",
       "      <th></th>\n",
       "      <th>userId</th>\n",
       "      <th>movieId</th>\n",
       "      <th>rating</th>\n",
       "    </tr>\n",
       "  </thead>\n",
       "  <tbody>\n",
       "    <tr>\n",
       "      <th>0</th>\n",
       "      <td>1</td>\n",
       "      <td>1</td>\n",
       "      <td>4.0</td>\n",
       "    </tr>\n",
       "    <tr>\n",
       "      <th>1</th>\n",
       "      <td>1</td>\n",
       "      <td>3</td>\n",
       "      <td>4.0</td>\n",
       "    </tr>\n",
       "    <tr>\n",
       "      <th>2</th>\n",
       "      <td>1</td>\n",
       "      <td>6</td>\n",
       "      <td>4.0</td>\n",
       "    </tr>\n",
       "    <tr>\n",
       "      <th>3</th>\n",
       "      <td>1</td>\n",
       "      <td>47</td>\n",
       "      <td>5.0</td>\n",
       "    </tr>\n",
       "    <tr>\n",
       "      <th>4</th>\n",
       "      <td>1</td>\n",
       "      <td>50</td>\n",
       "      <td>5.0</td>\n",
       "    </tr>\n",
       "    <tr>\n",
       "      <th>...</th>\n",
       "      <td>...</td>\n",
       "      <td>...</td>\n",
       "      <td>...</td>\n",
       "    </tr>\n",
       "    <tr>\n",
       "      <th>100831</th>\n",
       "      <td>610</td>\n",
       "      <td>166534</td>\n",
       "      <td>4.0</td>\n",
       "    </tr>\n",
       "    <tr>\n",
       "      <th>100832</th>\n",
       "      <td>610</td>\n",
       "      <td>168248</td>\n",
       "      <td>5.0</td>\n",
       "    </tr>\n",
       "    <tr>\n",
       "      <th>100833</th>\n",
       "      <td>610</td>\n",
       "      <td>168250</td>\n",
       "      <td>5.0</td>\n",
       "    </tr>\n",
       "    <tr>\n",
       "      <th>100834</th>\n",
       "      <td>610</td>\n",
       "      <td>168252</td>\n",
       "      <td>5.0</td>\n",
       "    </tr>\n",
       "    <tr>\n",
       "      <th>100835</th>\n",
       "      <td>610</td>\n",
       "      <td>170875</td>\n",
       "      <td>3.0</td>\n",
       "    </tr>\n",
       "  </tbody>\n",
       "</table>\n",
       "<p>100836 rows × 3 columns</p>\n",
       "</div>"
      ],
      "text/plain": [
       "        userId  movieId  rating\n",
       "0            1        1     4.0\n",
       "1            1        3     4.0\n",
       "2            1        6     4.0\n",
       "3            1       47     5.0\n",
       "4            1       50     5.0\n",
       "...        ...      ...     ...\n",
       "100831     610   166534     4.0\n",
       "100832     610   168248     5.0\n",
       "100833     610   168250     5.0\n",
       "100834     610   168252     5.0\n",
       "100835     610   170875     3.0\n",
       "\n",
       "[100836 rows x 3 columns]"
      ]
     },
     "execution_count": 2,
     "metadata": {},
     "output_type": "execute_result"
    }
   ],
   "source": [
    "data = data.drop('timestamp',axis=1)\n",
    "data"
   ]
  },
  {
   "cell_type": "code",
   "execution_count": 3,
   "metadata": {},
   "outputs": [
    {
     "name": "stdout",
     "output_type": "stream",
     "text": [
      "(80668, 3)\n"
     ]
    },
    {
     "data": {
      "text/plain": [
       "(20168, 3)"
      ]
     },
     "execution_count": 3,
     "metadata": {},
     "output_type": "execute_result"
    }
   ],
   "source": [
    "trainData=data.iloc[:int(data.shape[0]*0.80)]\n",
    "testData=data.iloc[int(data.shape[0]*0.80):]\n",
    "\n",
    "print(trainData.shape)\n",
    "testData.shape"
   ]
  },
  {
   "cell_type": "code",
   "execution_count": 4,
   "metadata": {},
   "outputs": [],
   "source": [
    "from surprise import SVD\n",
    "import numpy as np\n",
    "import surprise\n",
    "from surprise import Reader, Dataset\n",
    "\n",
    "reader = Reader(rating_scale=(1,5))\n",
    "# Convert data to appropriate format\n",
    "mfTrain = Dataset.load_from_df(trainData[['userId', 'movieId', 'rating']], reader)\n",
    "trainset = mfTrain.build_full_trainset()"
   ]
  },
  {
   "cell_type": "code",
   "execution_count": 5,
   "metadata": {},
   "outputs": [],
   "source": [
    "reader = Reader(rating_scale=(1,5))\n",
    "mfTest = Dataset.load_from_df(testData[['userId', 'movieId', 'rating']], reader)\n",
    "testset = mfTest.build_full_trainset()"
   ]
  },
  {
   "cell_type": "code",
   "execution_count": 6,
   "metadata": {},
   "outputs": [
    {
     "name": "stdout",
     "output_type": "stream",
     "text": [
      "Processing epoch 0\n",
      "Processing epoch 1\n",
      "Processing epoch 2\n",
      "Processing epoch 3\n",
      "Processing epoch 4\n",
      "Processing epoch 5\n",
      "Processing epoch 6\n",
      "Processing epoch 7\n",
      "Processing epoch 8\n",
      "Processing epoch 9\n",
      "Processing epoch 10\n",
      "Processing epoch 11\n",
      "Processing epoch 12\n",
      "Processing epoch 13\n",
      "Processing epoch 14\n",
      "Processing epoch 15\n",
      "Processing epoch 16\n",
      "Processing epoch 17\n",
      "Processing epoch 18\n",
      "Processing epoch 19\n"
     ]
    },
    {
     "data": {
      "text/plain": [
       "<surprise.prediction_algorithms.matrix_factorization.SVD at 0x1a7649b8a00>"
      ]
     },
     "execution_count": 6,
     "metadata": {},
     "output_type": "execute_result"
    }
   ],
   "source": [
    "svd = SVD(n_factors=100, biased=True, random_state=15, verbose=True)\n",
    "svd.fit(trainset)"
   ]
  },
  {
   "cell_type": "code",
   "execution_count": 7,
   "metadata": {},
   "outputs": [],
   "source": [
    "#getting predictions of trainset\n",
    "train_preds = svd.test(trainset.build_testset())\n",
    "\n",
    "mfTrain = np.array([pred.est for pred in train_preds])\n",
    "\n",
    "#getting predictions of trainset\n",
    "test_preds = svd.test(testset.build_testset())\n",
    "mfTest = np.array([pred.est for pred in test_preds])"
   ]
  },
  {
   "cell_type": "markdown",
   "metadata": {},
   "source": [
    "XGBoost"
   ]
  },
  {
   "cell_type": "code",
   "execution_count": 8,
   "metadata": {},
   "outputs": [],
   "source": [
    "from scipy import sparse\n",
    "# Creating a sparse matrix\n",
    "train_sparse_matrix = sparse.csr_matrix((trainData.rating.values, (trainData.userId.values,\n",
    "                                               trainData.movieId.values)))"
   ]
  },
  {
   "cell_type": "code",
   "execution_count": 9,
   "metadata": {},
   "outputs": [
    {
     "data": {
      "text/plain": [
       "{'global': 3.5199769425298757}"
      ]
     },
     "execution_count": 9,
     "metadata": {},
     "output_type": "execute_result"
    }
   ],
   "source": [
    "# Global avg of all movies by all users\n",
    "\n",
    "train_averages = dict()\n",
    "# get the global average of ratings in our train set.\n",
    "train_global_average = train_sparse_matrix.sum()/train_sparse_matrix.count_nonzero()\n",
    "train_averages['global'] = train_global_average\n",
    "train_averages"
   ]
  },
  {
   "cell_type": "code",
   "execution_count": 10,
   "metadata": {},
   "outputs": [],
   "source": [
    "# get the user averages in dictionary (key: user_id/movie_id, value: avg rating)\n",
    "\n",
    "def get_average_ratings(sparse_matrix, of_users):\n",
    "    \n",
    "    # average ratings of user/axes\n",
    "    ax = 1 if of_users else 0 # 1 - User axes,0 - Movie axes\n",
    "\n",
    "    # \".A1\" is for converting Column_Matrix to 1-D numpy array \n",
    "    sum_of_ratings = sparse_matrix.sum(axis=ax).A1\n",
    "    # Boolean matrix of ratings ( whether a user rated that movie or not)\n",
    "    is_rated = sparse_matrix!=0\n",
    "    # no of ratings that each user OR movie..\n",
    "    no_of_ratings = is_rated.sum(axis=ax).A1\n",
    "    \n",
    "    # max_user  and max_movie ids in sparse matrix \n",
    "    u,m = sparse_matrix.shape\n",
    "    # creae a dictonary of users and their average ratigns..\n",
    "    average_ratings = { i : sum_of_ratings[i]/no_of_ratings[i]\n",
    "                                 for i in range(u if of_users else m) \n",
    "                                    if no_of_ratings[i] !=0}\n",
    "\n",
    "    # return that dictionary of average ratings\n",
    "    return average_ratings"
   ]
  },
  {
   "cell_type": "code",
   "execution_count": 11,
   "metadata": {},
   "outputs": [
    {
     "name": "stdout",
     "output_type": "stream",
     "text": [
      "\n",
      "Average rating of user 10 : 3.2785714285714285\n"
     ]
    }
   ],
   "source": [
    "#Average rating given by a user\n",
    "\n",
    "train_averages['user'] = get_average_ratings(train_sparse_matrix, of_users=True)\n",
    "print('\\nAverage rating of user 10 :',train_averages['user'][10])"
   ]
  },
  {
   "cell_type": "code",
   "execution_count": 12,
   "metadata": {},
   "outputs": [
    {
     "name": "stdout",
     "output_type": "stream",
     "text": [
      "\n",
      " Average rating of movie 15 : 3.0\n"
     ]
    }
   ],
   "source": [
    "#Average rating for a movie\n",
    "\n",
    "\n",
    "train_averages['movie'] =  get_average_ratings(train_sparse_matrix, of_users=False)\n",
    "print('\\n Average rating of movie 15 :',train_averages['movie'][15])"
   ]
  },
  {
   "cell_type": "code",
   "execution_count": 13,
   "metadata": {},
   "outputs": [],
   "source": [
    "# get users, movies and ratings from our samples train sparse matrix\n",
    "\n",
    "train_users, train_movies, train_ratings = sparse.find(train_sparse_matrix)"
   ]
  },
  {
   "cell_type": "code",
   "execution_count": 14,
   "metadata": {},
   "outputs": [
    {
     "name": "stdout",
     "output_type": "stream",
     "text": [
      "Done for 1000 rows----- 29.19899320602417\n",
      "Done for 2000 rows----- 57.03638672828674\n",
      "Done for 3000 rows----- 84.26538562774658\n",
      "Done for 4000 rows----- 111.64038896560669\n",
      "Done for 5000 rows----- 138.94960141181946\n",
      "Done for 6000 rows----- 165.74846935272217\n",
      "Done for 7000 rows----- 192.85444021224976\n",
      "Done for 8000 rows----- 221.24947023391724\n",
      "Done for 9000 rows----- 249.23348474502563\n",
      "Done for 10000 rows----- 276.73644518852234\n",
      "Done for 11000 rows----- 304.3524477481842\n",
      "Done for 12000 rows----- 331.87944412231445\n",
      "Done for 13000 rows----- 359.6985273361206\n",
      "Done for 14000 rows----- 388.0354018211365\n",
      "Done for 15000 rows----- 416.26144075393677\n",
      "Done for 16000 rows----- 445.7543125152588\n",
      "Done for 17000 rows----- 474.1407332420349\n",
      "Done for 18000 rows----- 502.31730103492737\n",
      "Done for 19000 rows----- 530.8832578659058\n",
      "Done for 20000 rows----- 559.4933023452759\n",
      "Done for 21000 rows----- 588.673259973526\n",
      "Done for 22000 rows----- 618.101410150528\n",
      "Done for 23000 rows----- 646.7804110050201\n",
      "Done for 24000 rows----- 675.3514397144318\n",
      "Done for 25000 rows----- 704.6574718952179\n",
      "Done for 26000 rows----- 733.7575132846832\n",
      "Done for 27000 rows----- 762.7633173465729\n",
      "Done for 28000 rows----- 792.0442819595337\n",
      "Done for 29000 rows----- 821.8751583099365\n",
      "Done for 30000 rows----- 850.8442142009735\n",
      "Done for 31000 rows----- 879.9621942043304\n",
      "Done for 32000 rows----- 909.1352796554565\n",
      "Done for 33000 rows----- 939.1411008834839\n",
      "Done for 34000 rows----- 968.9102063179016\n",
      "Done for 35000 rows----- 998.9432048797607\n",
      "Done for 36000 rows----- 1029.2072834968567\n",
      "Done for 37000 rows----- 1059.816238641739\n",
      "Done for 38000 rows----- 1092.6594302654266\n",
      "Done for 39000 rows----- 1128.28342795372\n",
      "Done for 40000 rows----- 1161.3984825611115\n",
      "Done for 41000 rows----- 1194.574003458023\n",
      "Done for 42000 rows----- 1229.8990170955658\n",
      "Done for 43000 rows----- 1262.4020171165466\n",
      "Done for 44000 rows----- 1295.9203708171844\n",
      "Done for 45000 rows----- 1330.1953310966492\n",
      "Done for 46000 rows----- 1362.5873329639435\n",
      "Done for 47000 rows----- 1393.6999773979187\n",
      "Done for 48000 rows----- 1426.6020102500916\n",
      "Done for 49000 rows----- 1457.596575975418\n",
      "Done for 50000 rows----- 1489.3895766735077\n",
      "Done for 51000 rows----- 1521.2802114486694\n",
      "Done for 52000 rows----- 1553.6392126083374\n",
      "Done for 53000 rows----- 1585.0412554740906\n",
      "Done for 54000 rows----- 1618.261255979538\n",
      "Done for 55000 rows----- 1650.6193187236786\n",
      "Done for 56000 rows----- 1688.6343500614166\n",
      "Done for 57000 rows----- 1726.9509699344635\n",
      "Done for 58000 rows----- 1766.0757863521576\n",
      "Done for 59000 rows----- 1809.2410366535187\n",
      "Done for 60000 rows----- 1852.7399454116821\n",
      "Done for 61000 rows----- 1895.039272069931\n",
      "Done for 62000 rows----- 1934.862858057022\n",
      "Done for 63000 rows----- 1974.9150335788727\n",
      "Done for 64000 rows----- 2013.2233846187592\n",
      "Done for 65000 rows----- 2054.1549615859985\n",
      "Done for 66000 rows----- 2092.775607585907\n",
      "Done for 67000 rows----- 2132.385936021805\n",
      "Done for 68000 rows----- 2171.6132638454437\n",
      "Done for 69000 rows----- 2210.75088596344\n",
      "Done for 70000 rows----- 2251.8365030288696\n",
      "Done for 71000 rows----- 2292.7109270095825\n",
      "Done for 72000 rows----- 2332.9189009666443\n",
      "Done for 73000 rows----- 2373.1290175914764\n",
      "Done for 74000 rows----- 2413.042634487152\n",
      "Done for 75000 rows----- 2454.5211927890778\n",
      "Done for 76000 rows----- 2496.0771276950836\n",
      "Done for 77000 rows----- 2550.504984140396\n",
      "Done for 78000 rows----- 2593.240078687668\n",
      "Done for 79000 rows----- 2630.119126558304\n",
      "Done for 80000 rows----- 2671.2317430973053\n"
     ]
    }
   ],
   "source": [
    "import time\n",
    "from sklearn.metrics.pairwise import cosine_similarity\n",
    "\n",
    "finalTrainData = pd.DataFrame()\n",
    "count = 0\n",
    "start = time.time()\n",
    "for (user, movie, rating)  in zip(train_users, train_movies, train_ratings):\n",
    "            #st = datetime.now()\n",
    "            #print(user, movie)    \n",
    "            #--------------------- Ratings of \"movie\" by similar users of \"user\" ---------------------\n",
    "            # compute the similar Users of the \"user\"        \n",
    "            user_sim = cosine_similarity(train_sparse_matrix[user], train_sparse_matrix).ravel()\n",
    "            top_sim_users = user_sim.argsort()[::-1][1:] # we are ignoring 'The User' from its similar users.\n",
    "            # get the ratings of most similar users for this movie\n",
    "            top_ratings = train_sparse_matrix[top_sim_users, movie].toarray().ravel()\n",
    "            # we will make it's length \"5\" by adding movie averages to .\n",
    "            top_sim_users_ratings = list(top_ratings[top_ratings != 0][:5])\n",
    "            top_sim_users_ratings.extend([train_averages['movie'][movie]]*(5 - len(top_sim_users_ratings)))\n",
    "            #print(top_sim_users_ratings, end=\" \")    \n",
    "\n",
    "\n",
    "            #--------------------- Ratings by \"user\"  to similar movies of \"movie\" ---------------------\n",
    "            # compute the similar movies of the \"movie\"        \n",
    "            movie_sim = cosine_similarity(train_sparse_matrix[:,movie].T, train_sparse_matrix.T).ravel()\n",
    "            top_sim_movies = movie_sim.argsort()[::-1][1:] # we are ignoring 'The User' from its similar users.\n",
    "            # get the ratings of most similar movie rated by this user..\n",
    "            top_ratings = train_sparse_matrix[user, top_sim_movies].toarray().ravel()\n",
    "            # we will make it's length \"5\" by adding user averages to.\n",
    "            top_sim_movies_ratings = list(top_ratings[top_ratings != 0][:5])\n",
    "            top_sim_movies_ratings.extend([train_averages['user'][user]]*(5-len(top_sim_movies_ratings))) \n",
    "            #print(top_sim_movies_ratings, end=\" : -- \")\n",
    "\n",
    "            #-----------------prepare the row to be stores in a file-----------------#\n",
    "            row = list()\n",
    "            row.append(user)\n",
    "            row.append(movie)\n",
    "            # Now add the other features to this data...\n",
    "            row.append(train_averages['global']) # first feature\n",
    "            # next 5 features are similar_users \"movie\" ratings\n",
    "            row.extend(top_sim_users_ratings)\n",
    "            # next 5 features are \"user\" ratings for similar_movies\n",
    "            row.extend(top_sim_movies_ratings)\n",
    "            # Avg_user rating\n",
    "            row.append(train_averages['user'][user])\n",
    "            # Avg_movie rating\n",
    "            row.append(train_averages['movie'][movie])\n",
    "\n",
    "            # finalley, The actual Rating of this user-movie pair...\n",
    "            row.append(rating)\n",
    "            count = count + 1\n",
    "            finalTrainData = finalTrainData.append([row])\n",
    "\n",
    "           \n",
    "        \n",
    "            if (count)%1000 == 0:\n",
    "                # print(','.join(map(str, row)))\n",
    "                #print(user, movie)\n",
    "                #print(top_sim_users_ratings)\n",
    "                #print(top_sim_movies_ratings)\n",
    "                print(\"Done for {} rows----- {}\".format(count, time.time() - start))"
   ]
  },
  {
   "cell_type": "code",
   "execution_count": 15,
   "metadata": {},
   "outputs": [],
   "source": [
    "finalTrainData.columns=['user', 'movie', 'GAvg', 'simU1', 'simU2', 'simU3', 'simU4', 'simU5',\n",
    "            'SimM1', 'SimM2', 'SimM3', 'SimM4', 'SimM5', 'UserAvg', 'MovAvg', 'rating']"
   ]
  },
  {
   "cell_type": "code",
   "execution_count": 16,
   "metadata": {},
   "outputs": [
    {
     "name": "stdout",
     "output_type": "stream",
     "text": [
      "(80668, 16)\n",
      "   user  movie      GAvg  simU1  simU2  simU3  simU4  simU5  SimM1  SimM2  \\\n",
      "0     1      1  3.519977    2.0    5.0    4.0    4.0    4.5    3.0    4.0   \n",
      "0     5      1  3.519977    4.0    5.0    4.0    4.0    5.0    4.0    3.0   \n",
      "0     7      1  3.519977    4.0    4.0    5.0    4.5    4.0    4.5    4.5   \n",
      "0    15      1  3.519977    5.0    3.0    4.0    4.0    4.0    3.5    3.0   \n",
      "0    17      1  3.519977    4.0    5.0    4.0    4.0    4.5    4.0    4.5   \n",
      "\n",
      "   SimM3  SimM4  SimM5   UserAvg    MovAvg  rating  \n",
      "0    3.0    5.0    5.0  4.366379  3.954545     4.0  \n",
      "0    3.0    5.0    5.0  3.636364  3.954545     4.0  \n",
      "0    5.0    4.0    3.0  3.230263  3.954545     4.5  \n",
      "0    5.0    3.0    3.0  3.448148  3.954545     2.5  \n",
      "0    5.0    5.0    5.0  4.209524  3.954545     4.5  \n"
     ]
    }
   ],
   "source": [
    "print(finalTrainData.shape)\n",
    "print(finalTrainData.head())"
   ]
  },
  {
   "cell_type": "code",
   "execution_count": 17,
   "metadata": {},
   "outputs": [
    {
     "name": "stdout",
     "output_type": "stream",
     "text": [
      "(80668,)\n",
      "(80668, 16)\n"
     ]
    },
    {
     "data": {
      "text/html": [
       "<div>\n",
       "<style scoped>\n",
       "    .dataframe tbody tr th:only-of-type {\n",
       "        vertical-align: middle;\n",
       "    }\n",
       "\n",
       "    .dataframe tbody tr th {\n",
       "        vertical-align: top;\n",
       "    }\n",
       "\n",
       "    .dataframe thead th {\n",
       "        text-align: right;\n",
       "    }\n",
       "</style>\n",
       "<table border=\"1\" class=\"dataframe\">\n",
       "  <thead>\n",
       "    <tr style=\"text-align: right;\">\n",
       "      <th></th>\n",
       "      <th>user</th>\n",
       "      <th>movie</th>\n",
       "      <th>GAvg</th>\n",
       "      <th>simU1</th>\n",
       "      <th>simU2</th>\n",
       "      <th>simU3</th>\n",
       "      <th>simU4</th>\n",
       "      <th>simU5</th>\n",
       "      <th>SimM1</th>\n",
       "      <th>SimM2</th>\n",
       "      <th>SimM3</th>\n",
       "      <th>SimM4</th>\n",
       "      <th>SimM5</th>\n",
       "      <th>UserAvg</th>\n",
       "      <th>MovAvg</th>\n",
       "      <th>rating</th>\n",
       "      <th>mf_svd</th>\n",
       "    </tr>\n",
       "  </thead>\n",
       "  <tbody>\n",
       "    <tr>\n",
       "      <th>0</th>\n",
       "      <td>1</td>\n",
       "      <td>1</td>\n",
       "      <td>3.519977</td>\n",
       "      <td>2.0</td>\n",
       "      <td>5.0</td>\n",
       "      <td>4.0</td>\n",
       "      <td>4.0</td>\n",
       "      <td>4.5</td>\n",
       "      <td>3.0</td>\n",
       "      <td>4.0</td>\n",
       "      <td>3.0</td>\n",
       "      <td>5.0</td>\n",
       "      <td>5.0</td>\n",
       "      <td>4.366379</td>\n",
       "      <td>3.954545</td>\n",
       "      <td>4.0</td>\n",
       "      <td>4.306195</td>\n",
       "    </tr>\n",
       "    <tr>\n",
       "      <th>0</th>\n",
       "      <td>5</td>\n",
       "      <td>1</td>\n",
       "      <td>3.519977</td>\n",
       "      <td>4.0</td>\n",
       "      <td>5.0</td>\n",
       "      <td>4.0</td>\n",
       "      <td>4.0</td>\n",
       "      <td>5.0</td>\n",
       "      <td>4.0</td>\n",
       "      <td>3.0</td>\n",
       "      <td>3.0</td>\n",
       "      <td>5.0</td>\n",
       "      <td>5.0</td>\n",
       "      <td>3.636364</td>\n",
       "      <td>3.954545</td>\n",
       "      <td>4.0</td>\n",
       "      <td>3.941735</td>\n",
       "    </tr>\n",
       "    <tr>\n",
       "      <th>0</th>\n",
       "      <td>7</td>\n",
       "      <td>1</td>\n",
       "      <td>3.519977</td>\n",
       "      <td>4.0</td>\n",
       "      <td>4.0</td>\n",
       "      <td>5.0</td>\n",
       "      <td>4.5</td>\n",
       "      <td>4.0</td>\n",
       "      <td>4.5</td>\n",
       "      <td>4.5</td>\n",
       "      <td>5.0</td>\n",
       "      <td>4.0</td>\n",
       "      <td>3.0</td>\n",
       "      <td>3.230263</td>\n",
       "      <td>3.954545</td>\n",
       "      <td>4.5</td>\n",
       "      <td>4.543556</td>\n",
       "    </tr>\n",
       "    <tr>\n",
       "      <th>0</th>\n",
       "      <td>15</td>\n",
       "      <td>1</td>\n",
       "      <td>3.519977</td>\n",
       "      <td>5.0</td>\n",
       "      <td>3.0</td>\n",
       "      <td>4.0</td>\n",
       "      <td>4.0</td>\n",
       "      <td>4.0</td>\n",
       "      <td>3.5</td>\n",
       "      <td>3.0</td>\n",
       "      <td>5.0</td>\n",
       "      <td>3.0</td>\n",
       "      <td>3.0</td>\n",
       "      <td>3.448148</td>\n",
       "      <td>3.954545</td>\n",
       "      <td>2.5</td>\n",
       "      <td>4.677380</td>\n",
       "    </tr>\n",
       "    <tr>\n",
       "      <th>0</th>\n",
       "      <td>17</td>\n",
       "      <td>1</td>\n",
       "      <td>3.519977</td>\n",
       "      <td>4.0</td>\n",
       "      <td>5.0</td>\n",
       "      <td>4.0</td>\n",
       "      <td>4.0</td>\n",
       "      <td>4.5</td>\n",
       "      <td>4.0</td>\n",
       "      <td>4.5</td>\n",
       "      <td>5.0</td>\n",
       "      <td>5.0</td>\n",
       "      <td>5.0</td>\n",
       "      <td>4.209524</td>\n",
       "      <td>3.954545</td>\n",
       "      <td>4.5</td>\n",
       "      <td>4.810359</td>\n",
       "    </tr>\n",
       "  </tbody>\n",
       "</table>\n",
       "</div>"
      ],
      "text/plain": [
       "   user  movie      GAvg  simU1  simU2  simU3  simU4  simU5  SimM1  SimM2  \\\n",
       "0     1      1  3.519977    2.0    5.0    4.0    4.0    4.5    3.0    4.0   \n",
       "0     5      1  3.519977    4.0    5.0    4.0    4.0    5.0    4.0    3.0   \n",
       "0     7      1  3.519977    4.0    4.0    5.0    4.5    4.0    4.5    4.5   \n",
       "0    15      1  3.519977    5.0    3.0    4.0    4.0    4.0    3.5    3.0   \n",
       "0    17      1  3.519977    4.0    5.0    4.0    4.0    4.5    4.0    4.5   \n",
       "\n",
       "   SimM3  SimM4  SimM5   UserAvg    MovAvg  rating    mf_svd  \n",
       "0    3.0    5.0    5.0  4.366379  3.954545     4.0  4.306195  \n",
       "0    3.0    5.0    5.0  3.636364  3.954545     4.0  3.941735  \n",
       "0    5.0    4.0    3.0  3.230263  3.954545     4.5  4.543556  \n",
       "0    5.0    3.0    3.0  3.448148  3.954545     2.5  4.677380  \n",
       "0    5.0    5.0    5.0  4.209524  3.954545     4.5  4.810359  "
      ]
     },
     "execution_count": 17,
     "metadata": {},
     "output_type": "execute_result"
    }
   ],
   "source": [
    "print(mfTrain.shape)\n",
    "print(finalTrainData.shape)\n",
    "# add in matrix factorization output\n",
    "finalTrainData['mf_svd']=mfTrain\n",
    "finalTrainData.head()"
   ]
  },
  {
   "cell_type": "markdown",
   "metadata": {},
   "source": [
    "Test Data"
   ]
  },
  {
   "cell_type": "code",
   "execution_count": 18,
   "metadata": {},
   "outputs": [],
   "source": [
    "# Creating a sparse matrix\n",
    "test_sparse_matrix = sparse.csr_matrix((testData.rating.values, (testData.userId.values,\n",
    "                                               testData.movieId.values)))"
   ]
  },
  {
   "cell_type": "code",
   "execution_count": 19,
   "metadata": {},
   "outputs": [
    {
     "data": {
      "text/plain": [
       "{'global': 3.4278808012693376}"
      ]
     },
     "execution_count": 19,
     "metadata": {},
     "output_type": "execute_result"
    }
   ],
   "source": [
    "# Global avg of all movies by all users\n",
    "\n",
    "test_averages = dict()\n",
    "# get the global average of ratings in our train set.\n",
    "test_global_average = test_sparse_matrix.sum()/test_sparse_matrix.count_nonzero()\n",
    "test_averages['global'] = test_global_average\n",
    "test_averages"
   ]
  },
  {
   "cell_type": "code",
   "execution_count": 20,
   "metadata": {},
   "outputs": [],
   "source": [
    "# get the user averages in dictionary (key: user_id/movie_id, value: avg rating)\n",
    "\n",
    "def get_average_ratings(sparse_matrix, of_users):\n",
    "    \n",
    "    # average ratings of user/axes\n",
    "    ax = 1 if of_users else 0 # 1 - User axes,0 - Movie axes\n",
    "\n",
    "    # \".A1\" is for converting Column_Matrix to 1-D numpy array \n",
    "    sum_of_ratings = sparse_matrix.sum(axis=ax).A1\n",
    "    # Boolean matrix of ratings ( whether a user rated that movie or not)\n",
    "    is_rated = sparse_matrix!=0\n",
    "    # no of ratings that each user OR movie..\n",
    "    no_of_ratings = is_rated.sum(axis=ax).A1\n",
    "    \n",
    "    # max_user  and max_movie ids in sparse matrix \n",
    "    u,m = sparse_matrix.shape\n",
    "    # creae a dictonary of users and their average ratigns..\n",
    "    average_ratings = { i : sum_of_ratings[i]/no_of_ratings[i]\n",
    "                                 for i in range(u if of_users else m) \n",
    "                                    if no_of_ratings[i] !=0}\n",
    "\n",
    "    # return that dictionary of average ratings\n",
    "    return average_ratings"
   ]
  },
  {
   "cell_type": "code",
   "execution_count": 21,
   "metadata": {},
   "outputs": [
    {
     "name": "stdout",
     "output_type": "stream",
     "text": [
      "\n",
      " AVerage rating of movie 15 : 3.0\n"
     ]
    }
   ],
   "source": [
    "# Average ratings given by a user\n",
    "\n",
    "test_averages['user'] = get_average_ratings(test_sparse_matrix, of_users=True)\n",
    "#print('\\nAverage rating of user 10 :',test_averages['user'][10])\n",
    "\n",
    "# Average ratings given for a movie\n",
    "\n",
    "test_averages['movie'] =  get_average_ratings(test_sparse_matrix, of_users=False)\n",
    "print('\\n AVerage rating of movie 15 :',test_averages['movie'][15])"
   ]
  },
  {
   "cell_type": "code",
   "execution_count": 22,
   "metadata": {},
   "outputs": [],
   "source": [
    "# get users, movies and ratings from our samples train sparse matrix\n",
    "test_users, test_movies, test_ratings = sparse.find(test_sparse_matrix)"
   ]
  },
  {
   "cell_type": "code",
   "execution_count": 23,
   "metadata": {},
   "outputs": [
    {
     "name": "stdout",
     "output_type": "stream",
     "text": [
      "Done for 1000 rows----- 28.505134105682373\n",
      "Done for 2000 rows----- 57.785176038742065\n",
      "Done for 3000 rows----- 87.21038150787354\n",
      "Done for 4000 rows----- 115.79640173912048\n",
      "Done for 5000 rows----- 148.59022188186646\n",
      "Done for 6000 rows----- 182.36217713356018\n",
      "Done for 7000 rows----- 214.2662844657898\n",
      "Done for 8000 rows----- 242.9872772693634\n",
      "Done for 9000 rows----- 271.9112675189972\n",
      "Done for 10000 rows----- 301.40921568870544\n",
      "Done for 11000 rows----- 330.4119873046875\n",
      "Done for 12000 rows----- 361.47194957733154\n",
      "Done for 13000 rows----- 392.786408662796\n",
      "Done for 14000 rows----- 423.1756694316864\n",
      "Done for 15000 rows----- 453.3213007450104\n",
      "Done for 16000 rows----- 483.8224949836731\n",
      "Done for 17000 rows----- 513.6631207466125\n",
      "Done for 18000 rows----- 546.5057654380798\n",
      "Done for 19000 rows----- 576.6303038597107\n",
      "Done for 20000 rows----- 606.8621909618378\n"
     ]
    }
   ],
   "source": [
    "import time\n",
    "from sklearn.metrics.pairwise import cosine_similarity\n",
    "\n",
    "start = time.time()\n",
    "finalTest = pd.DataFrame()\n",
    "count = 0\n",
    "for (user, movie, rating)  in zip(test_users, test_movies, test_ratings):\n",
    "            #st = datetime.now()\n",
    "        #     print(user, movie)    \n",
    "            #--------------------- Ratings of \"movie\" by similar users of \"user\" ---------------------\n",
    "            # compute the similar Users of the \"user\"        \n",
    "            user_sim = cosine_similarity(test_sparse_matrix[user], test_sparse_matrix).ravel()\n",
    "            top_sim_users = user_sim.argsort()[::-1][1:] # we are ignoring 'The User' from its similar users.\n",
    "            # get the ratings of most similar users for this movie\n",
    "            top_ratings = test_sparse_matrix[top_sim_users, movie].toarray().ravel()\n",
    "            # we will make it's length \"5\" by adding movie averages to .\n",
    "            top_sim_users_ratings = list(top_ratings[top_ratings != 0][:5])\n",
    "            top_sim_users_ratings.extend([test_averages['movie'][movie]]*(5 - len(top_sim_users_ratings)))\n",
    "        #     print(top_sim_users_ratings, end=\" \")    \n",
    "\n",
    "\n",
    "            #--------------------- Ratings by \"user\"  to similar movies of \"movie\" ---------------------\n",
    "            # compute the similar movies of the \"movie\"        \n",
    "            movie_sim = cosine_similarity(test_sparse_matrix[:,movie].T, test_sparse_matrix.T).ravel()\n",
    "            top_sim_movies = movie_sim.argsort()[::-1][1:] # we are ignoring 'The User' from its similar users.\n",
    "            # get the ratings of most similar movie rated by this user..\n",
    "            top_ratings = test_sparse_matrix[user, top_sim_movies].toarray().ravel()\n",
    "            # we will make it's length \"5\" by adding user averages to.\n",
    "            top_sim_movies_ratings = list(top_ratings[top_ratings != 0][:5])\n",
    "            top_sim_movies_ratings.extend([test_averages['user'][user]]*(5-len(top_sim_movies_ratings))) \n",
    "        #     print(top_sim_movies_ratings, end=\" : -- \")\n",
    "\n",
    "            #-----------------prepare the row to be stores in a file-----------------#\n",
    "            row = list()\n",
    "            row.append(user)\n",
    "            row.append(movie)\n",
    "            # Now add the other features to this data...\n",
    "            row.append(test_averages['global']) # first feature\n",
    "            # next 5 features are similar_users \"movie\" ratings\n",
    "            row.extend(top_sim_users_ratings)\n",
    "            # next 5 features are \"user\" ratings for similar_movies\n",
    "            row.extend(top_sim_movies_ratings)\n",
    "            # Avg_user rating\n",
    "            row.append(test_averages['user'][user])\n",
    "            # Avg_movie rating\n",
    "            row.append(test_averages['movie'][movie])\n",
    "\n",
    "            # finalley, The actual Rating of this user-movie pair...\n",
    "            row.append(rating)\n",
    "            count = count + 1\n",
    "            finalTest = finalTest.append([row])\n",
    "\n",
    "           \n",
    "        \n",
    "            if (count)%1000 == 0:\n",
    "                # print(','.join(map(str, row)))\n",
    "                print(\"Done for {} rows----- {}\".format(count, time.time() - start))"
   ]
  },
  {
   "cell_type": "code",
   "execution_count": 24,
   "metadata": {},
   "outputs": [
    {
     "name": "stdout",
     "output_type": "stream",
     "text": [
      "(20168, 16)\n",
      "RangeIndex(start=0, stop=16, step=1)\n"
     ]
    }
   ],
   "source": [
    "print(finalTest.shape)\n",
    "print(finalTest.columns)\n",
    "finalTest.columns=['user', 'movie', 'GAvg', 'simU1', 'simU2', 'simU3', 'simU4', 'simU5',\n",
    "            'SimM1', 'SimM2', 'SimM3', 'SimM4', 'SimM5', 'UserAvg', 'MovAvg', 'rating']"
   ]
  },
  {
   "cell_type": "code",
   "execution_count": 25,
   "metadata": {},
   "outputs": [
    {
     "data": {
      "text/html": [
       "<div>\n",
       "<style scoped>\n",
       "    .dataframe tbody tr th:only-of-type {\n",
       "        vertical-align: middle;\n",
       "    }\n",
       "\n",
       "    .dataframe tbody tr th {\n",
       "        vertical-align: top;\n",
       "    }\n",
       "\n",
       "    .dataframe thead th {\n",
       "        text-align: right;\n",
       "    }\n",
       "</style>\n",
       "<table border=\"1\" class=\"dataframe\">\n",
       "  <thead>\n",
       "    <tr style=\"text-align: right;\">\n",
       "      <th></th>\n",
       "      <th>user</th>\n",
       "      <th>movie</th>\n",
       "      <th>GAvg</th>\n",
       "      <th>simU1</th>\n",
       "      <th>simU2</th>\n",
       "      <th>simU3</th>\n",
       "      <th>simU4</th>\n",
       "      <th>simU5</th>\n",
       "      <th>SimM1</th>\n",
       "      <th>SimM2</th>\n",
       "      <th>SimM3</th>\n",
       "      <th>SimM4</th>\n",
       "      <th>SimM5</th>\n",
       "      <th>UserAvg</th>\n",
       "      <th>MovAvg</th>\n",
       "      <th>rating</th>\n",
       "      <th>mf_svd</th>\n",
       "    </tr>\n",
       "  </thead>\n",
       "  <tbody>\n",
       "    <tr>\n",
       "      <th>0</th>\n",
       "      <td>514</td>\n",
       "      <td>1</td>\n",
       "      <td>3.427881</td>\n",
       "      <td>4.0</td>\n",
       "      <td>4.00</td>\n",
       "      <td>4.00</td>\n",
       "      <td>4.00</td>\n",
       "      <td>4.00</td>\n",
       "      <td>4.0</td>\n",
       "      <td>4.0</td>\n",
       "      <td>4.0</td>\n",
       "      <td>2.5</td>\n",
       "      <td>5.0</td>\n",
       "      <td>3.311083</td>\n",
       "      <td>3.769231</td>\n",
       "      <td>4.0</td>\n",
       "      <td>3.425865</td>\n",
       "    </tr>\n",
       "    <tr>\n",
       "      <th>0</th>\n",
       "      <td>517</td>\n",
       "      <td>1</td>\n",
       "      <td>3.427881</td>\n",
       "      <td>4.0</td>\n",
       "      <td>4.00</td>\n",
       "      <td>4.00</td>\n",
       "      <td>2.50</td>\n",
       "      <td>4.00</td>\n",
       "      <td>3.5</td>\n",
       "      <td>2.0</td>\n",
       "      <td>3.0</td>\n",
       "      <td>3.5</td>\n",
       "      <td>5.0</td>\n",
       "      <td>2.386250</td>\n",
       "      <td>3.769231</td>\n",
       "      <td>4.0</td>\n",
       "      <td>3.229036</td>\n",
       "    </tr>\n",
       "    <tr>\n",
       "      <th>0</th>\n",
       "      <td>522</td>\n",
       "      <td>1</td>\n",
       "      <td>3.427881</td>\n",
       "      <td>5.0</td>\n",
       "      <td>4.00</td>\n",
       "      <td>4.00</td>\n",
       "      <td>4.00</td>\n",
       "      <td>3.00</td>\n",
       "      <td>3.5</td>\n",
       "      <td>4.0</td>\n",
       "      <td>5.0</td>\n",
       "      <td>5.0</td>\n",
       "      <td>5.0</td>\n",
       "      <td>3.830000</td>\n",
       "      <td>3.769231</td>\n",
       "      <td>3.0</td>\n",
       "      <td>3.026007</td>\n",
       "    </tr>\n",
       "    <tr>\n",
       "      <th>0</th>\n",
       "      <td>524</td>\n",
       "      <td>1</td>\n",
       "      <td>3.427881</td>\n",
       "      <td>5.0</td>\n",
       "      <td>4.00</td>\n",
       "      <td>5.00</td>\n",
       "      <td>3.00</td>\n",
       "      <td>4.00</td>\n",
       "      <td>3.0</td>\n",
       "      <td>3.0</td>\n",
       "      <td>3.0</td>\n",
       "      <td>5.0</td>\n",
       "      <td>5.0</td>\n",
       "      <td>3.458015</td>\n",
       "      <td>3.769231</td>\n",
       "      <td>4.0</td>\n",
       "      <td>3.004834</td>\n",
       "    </tr>\n",
       "    <tr>\n",
       "      <th>0</th>\n",
       "      <td>525</td>\n",
       "      <td>1</td>\n",
       "      <td>3.427881</td>\n",
       "      <td>4.0</td>\n",
       "      <td>3.00</td>\n",
       "      <td>5.00</td>\n",
       "      <td>2.50</td>\n",
       "      <td>4.00</td>\n",
       "      <td>4.0</td>\n",
       "      <td>4.0</td>\n",
       "      <td>4.0</td>\n",
       "      <td>4.5</td>\n",
       "      <td>4.0</td>\n",
       "      <td>3.542000</td>\n",
       "      <td>3.769231</td>\n",
       "      <td>4.0</td>\n",
       "      <td>2.366412</td>\n",
       "    </tr>\n",
       "    <tr>\n",
       "      <th>...</th>\n",
       "      <td>...</td>\n",
       "      <td>...</td>\n",
       "      <td>...</td>\n",
       "      <td>...</td>\n",
       "      <td>...</td>\n",
       "      <td>...</td>\n",
       "      <td>...</td>\n",
       "      <td>...</td>\n",
       "      <td>...</td>\n",
       "      <td>...</td>\n",
       "      <td>...</td>\n",
       "      <td>...</td>\n",
       "      <td>...</td>\n",
       "      <td>...</td>\n",
       "      <td>...</td>\n",
       "      <td>...</td>\n",
       "      <td>...</td>\n",
       "    </tr>\n",
       "    <tr>\n",
       "      <th>0</th>\n",
       "      <td>586</td>\n",
       "      <td>187593</td>\n",
       "      <td>3.427881</td>\n",
       "      <td>3.5</td>\n",
       "      <td>3.75</td>\n",
       "      <td>3.75</td>\n",
       "      <td>3.75</td>\n",
       "      <td>3.75</td>\n",
       "      <td>5.0</td>\n",
       "      <td>3.5</td>\n",
       "      <td>3.5</td>\n",
       "      <td>4.0</td>\n",
       "      <td>5.0</td>\n",
       "      <td>4.365385</td>\n",
       "      <td>3.750000</td>\n",
       "      <td>4.0</td>\n",
       "      <td>3.450431</td>\n",
       "    </tr>\n",
       "    <tr>\n",
       "      <th>0</th>\n",
       "      <td>514</td>\n",
       "      <td>187595</td>\n",
       "      <td>3.427881</td>\n",
       "      <td>5.0</td>\n",
       "      <td>4.00</td>\n",
       "      <td>4.00</td>\n",
       "      <td>4.00</td>\n",
       "      <td>4.00</td>\n",
       "      <td>3.5</td>\n",
       "      <td>2.0</td>\n",
       "      <td>4.0</td>\n",
       "      <td>2.0</td>\n",
       "      <td>3.0</td>\n",
       "      <td>3.311083</td>\n",
       "      <td>4.000000</td>\n",
       "      <td>3.0</td>\n",
       "      <td>3.784835</td>\n",
       "    </tr>\n",
       "    <tr>\n",
       "      <th>0</th>\n",
       "      <td>586</td>\n",
       "      <td>187595</td>\n",
       "      <td>3.427881</td>\n",
       "      <td>3.0</td>\n",
       "      <td>4.00</td>\n",
       "      <td>4.00</td>\n",
       "      <td>4.00</td>\n",
       "      <td>4.00</td>\n",
       "      <td>4.0</td>\n",
       "      <td>4.5</td>\n",
       "      <td>4.0</td>\n",
       "      <td>4.0</td>\n",
       "      <td>4.0</td>\n",
       "      <td>4.365385</td>\n",
       "      <td>4.000000</td>\n",
       "      <td>5.0</td>\n",
       "      <td>3.561571</td>\n",
       "    </tr>\n",
       "    <tr>\n",
       "      <th>0</th>\n",
       "      <td>596</td>\n",
       "      <td>188301</td>\n",
       "      <td>3.427881</td>\n",
       "      <td>4.0</td>\n",
       "      <td>4.00</td>\n",
       "      <td>4.00</td>\n",
       "      <td>4.00</td>\n",
       "      <td>4.00</td>\n",
       "      <td>4.0</td>\n",
       "      <td>4.5</td>\n",
       "      <td>2.5</td>\n",
       "      <td>4.0</td>\n",
       "      <td>4.0</td>\n",
       "      <td>3.495134</td>\n",
       "      <td>4.000000</td>\n",
       "      <td>4.0</td>\n",
       "      <td>3.921782</td>\n",
       "    </tr>\n",
       "    <tr>\n",
       "      <th>0</th>\n",
       "      <td>514</td>\n",
       "      <td>188797</td>\n",
       "      <td>3.427881</td>\n",
       "      <td>4.0</td>\n",
       "      <td>4.00</td>\n",
       "      <td>4.00</td>\n",
       "      <td>4.00</td>\n",
       "      <td>4.00</td>\n",
       "      <td>0.5</td>\n",
       "      <td>2.0</td>\n",
       "      <td>2.0</td>\n",
       "      <td>3.0</td>\n",
       "      <td>2.0</td>\n",
       "      <td>3.311083</td>\n",
       "      <td>4.000000</td>\n",
       "      <td>4.0</td>\n",
       "      <td>3.320549</td>\n",
       "    </tr>\n",
       "  </tbody>\n",
       "</table>\n",
       "<p>20168 rows × 17 columns</p>\n",
       "</div>"
      ],
      "text/plain": [
       "    user   movie      GAvg  simU1  simU2  simU3  simU4  simU5  SimM1  SimM2  \\\n",
       "0    514       1  3.427881    4.0   4.00   4.00   4.00   4.00    4.0    4.0   \n",
       "0    517       1  3.427881    4.0   4.00   4.00   2.50   4.00    3.5    2.0   \n",
       "0    522       1  3.427881    5.0   4.00   4.00   4.00   3.00    3.5    4.0   \n",
       "0    524       1  3.427881    5.0   4.00   5.00   3.00   4.00    3.0    3.0   \n",
       "0    525       1  3.427881    4.0   3.00   5.00   2.50   4.00    4.0    4.0   \n",
       "..   ...     ...       ...    ...    ...    ...    ...    ...    ...    ...   \n",
       "0    586  187593  3.427881    3.5   3.75   3.75   3.75   3.75    5.0    3.5   \n",
       "0    514  187595  3.427881    5.0   4.00   4.00   4.00   4.00    3.5    2.0   \n",
       "0    586  187595  3.427881    3.0   4.00   4.00   4.00   4.00    4.0    4.5   \n",
       "0    596  188301  3.427881    4.0   4.00   4.00   4.00   4.00    4.0    4.5   \n",
       "0    514  188797  3.427881    4.0   4.00   4.00   4.00   4.00    0.5    2.0   \n",
       "\n",
       "    SimM3  SimM4  SimM5   UserAvg    MovAvg  rating    mf_svd  \n",
       "0     4.0    2.5    5.0  3.311083  3.769231     4.0  3.425865  \n",
       "0     3.0    3.5    5.0  2.386250  3.769231     4.0  3.229036  \n",
       "0     5.0    5.0    5.0  3.830000  3.769231     3.0  3.026007  \n",
       "0     3.0    5.0    5.0  3.458015  3.769231     4.0  3.004834  \n",
       "0     4.0    4.5    4.0  3.542000  3.769231     4.0  2.366412  \n",
       "..    ...    ...    ...       ...       ...     ...       ...  \n",
       "0     3.5    4.0    5.0  4.365385  3.750000     4.0  3.450431  \n",
       "0     4.0    2.0    3.0  3.311083  4.000000     3.0  3.784835  \n",
       "0     4.0    4.0    4.0  4.365385  4.000000     5.0  3.561571  \n",
       "0     2.5    4.0    4.0  3.495134  4.000000     4.0  3.921782  \n",
       "0     2.0    3.0    2.0  3.311083  4.000000     4.0  3.320549  \n",
       "\n",
       "[20168 rows x 17 columns]"
      ]
     },
     "execution_count": 25,
     "metadata": {},
     "output_type": "execute_result"
    }
   ],
   "source": [
    "# add in the matrix factorization output\n",
    "\n",
    "finalTest['mf_svd']=mfTest\n",
    "finalTest"
   ]
  },
  {
   "cell_type": "markdown",
   "metadata": {},
   "source": [
    "XGBoost creation"
   ]
  },
  {
   "cell_type": "code",
   "execution_count": 26,
   "metadata": {},
   "outputs": [],
   "source": [
    "from sklearn.metrics import mean_absolute_error\n",
    "\n",
    "def get_error_metrics(y_true, y_pred):\n",
    "    rmse = np.sqrt(np.mean([ (y_true[i] - y_pred[i])**2 for i in range(len(y_pred)) ]))\n",
    "    mape = np.mean(np.abs( (y_true - y_pred)/y_true )) * 100\n",
    "    mae = mean_absolute_error(y_true, y_pred)\n",
    "    return rmse, mape, mae"
   ]
  },
  {
   "cell_type": "code",
   "execution_count": 27,
   "metadata": {},
   "outputs": [],
   "source": [
    "# prepare train data\n",
    "x_train = finalTrainData.drop(['user', 'movie','rating'], axis=1)\n",
    "y_train = finalTrainData['rating']"
   ]
  },
  {
   "cell_type": "code",
   "execution_count": 28,
   "metadata": {},
   "outputs": [],
   "source": [
    "# Prepare Test data\n",
    "x_test = finalTest.drop(['user','movie','rating'], axis=1)\n",
    "y_test = finalTest['rating']"
   ]
  },
  {
   "cell_type": "code",
   "execution_count": 29,
   "metadata": {},
   "outputs": [
    {
     "name": "stdout",
     "output_type": "stream",
     "text": [
      "Training the model..\n",
      "[17:55:05] WARNING: C:/Users/Administrator/workspace/xgboost-win64_release_1.4.0/src/learner.cc:573: \n",
      "Parameters: { \"silent\" } might not be used.\n",
      "\n",
      "  This may not be accurate due to some parameters are only used in language bindings but\n",
      "  passed down to XGBoost core.  Or some parameters are not used but slip through this\n",
      "  verification. Please open an issue if you find above cases.\n",
      "\n",
      "\n",
      "Done. Time taken : 8.737995386123657\n",
      "\n",
      "Done \n",
      "\n"
     ]
    }
   ],
   "source": [
    "import xgboost as xgb\n",
    "import time\n",
    "# initialize XGBoost model...\n",
    "xgb_model = xgb.XGBRegressor(silent=False, n_jobs=13, random_state=15, n_estimators=100)\n",
    "# dictionaries for storing train and test results\n",
    "train_results = dict()\n",
    "test_results = dict()\n",
    "    \n",
    "    \n",
    "# fit the model\n",
    "print('Training the model..')\n",
    "start =time.time()\n",
    "xgb_model.fit(x_train, y_train, eval_metric = 'rmse')\n",
    "print('Done. Time taken : {}\\n'.format(time.time()-start))\n",
    "print('Done \\n')"
   ]
  },
  {
   "cell_type": "code",
   "execution_count": 30,
   "metadata": {},
   "outputs": [
    {
     "name": "stdout",
     "output_type": "stream",
     "text": [
      "Evaluating the model with TRAIN data...\n"
     ]
    },
    {
     "name": "stderr",
     "output_type": "stream",
     "text": [
      "C:\\Users\\srira\\anaconda3\\lib\\site-packages\\xgboost\\data.py:112: UserWarning: Use subset (sliced data) of np.ndarray is not recommended because it will generate extra copies and increase memory consumption\n",
      "  warnings.warn(\n"
     ]
    }
   ],
   "source": [
    "# from the trained model, get the predictions....\n",
    "print('Evaluating the model with TRAIN data...')\n",
    "start =time.time()\n",
    "y_train_pred = xgb_model.predict(x_train)\n",
    "# get the rmse and mape of train data...\n",
    "rmse_train, mape_train, mae_train = get_error_metrics(y_train.values, y_train_pred)\n",
    "    \n",
    "# store the results in train_results dictionary..\n",
    "train_results = {'rmse': rmse_train,\n",
    "                    'mape' : mape_train,\n",
    "                    'mae'  : mae_train,\n",
    "                    'predictions' : y_train_pred}"
   ]
  },
  {
   "cell_type": "code",
   "execution_count": 31,
   "metadata": {},
   "outputs": [
    {
     "data": {
      "text/plain": [
       "{'rmse': 0.6781111999765105,\n",
       " 'mape': 20.54832458104446,\n",
       " 'mae': 0.5117222712224767,\n",
       " 'predictions': array([4.1716933, 3.9454303, 3.8573043, ..., 3.7118096, 3.7118096,\n",
       "        4.1530914], dtype=float32)}"
      ]
     },
     "execution_count": 31,
     "metadata": {},
     "output_type": "execute_result"
    }
   ],
   "source": [
    "train_results"
   ]
  },
  {
   "cell_type": "code",
   "execution_count": 32,
   "metadata": {},
   "outputs": [
    {
     "name": "stdout",
     "output_type": "stream",
     "text": [
      "Evaluating Test data\n"
     ]
    },
    {
     "name": "stderr",
     "output_type": "stream",
     "text": [
      "C:\\Users\\srira\\anaconda3\\lib\\site-packages\\xgboost\\data.py:112: UserWarning: Use subset (sliced data) of np.ndarray is not recommended because it will generate extra copies and increase memory consumption\n",
      "  warnings.warn(\n"
     ]
    }
   ],
   "source": [
    "from sklearn.metrics import mean_absolute_error\n",
    "from xgboost import cv\n",
    "#######################################\n",
    "# get the test data predictions and compute rmse and mape\n",
    "print('Evaluating Test data')\n",
    "\n",
    "\n",
    "\n",
    "y_test_pred = xgb_model.predict(x_test) \n",
    "rmse_test, mape_test, mae_test = get_error_metrics(y_true=y_test.values, y_pred=y_test_pred)\n",
    "# store them in our test results dictionary.\n",
    "test_results = {'rmse': rmse_test,\n",
    "                    'mape' : mape_test,\n",
    "                    'mae'  : mae_test,\n",
    "                    'predictions':y_test_pred}\n"
   ]
  },
  {
   "cell_type": "code",
   "execution_count": 33,
   "metadata": {},
   "outputs": [
    {
     "name": "stdout",
     "output_type": "stream",
     "text": [
      "[17:55:14] WARNING: C:/Users/Administrator/workspace/xgboost-win64_release_1.4.0/src/learner.cc:573: \n",
      "Parameters: { \"silent\" } might not be used.\n",
      "\n",
      "  This may not be accurate due to some parameters are only used in language bindings but\n",
      "  passed down to XGBoost core.  Or some parameters are not used but slip through this\n",
      "  verification. Please open an issue if you find above cases.\n",
      "\n",
      "\n"
     ]
    },
    {
     "name": "stderr",
     "output_type": "stream",
     "text": [
      "C:\\Users\\srira\\anaconda3\\lib\\site-packages\\xgboost\\data.py:112: UserWarning: Use subset (sliced data) of np.ndarray is not recommended because it will generate extra copies and increase memory consumption\n",
      "  warnings.warn(\n"
     ]
    },
    {
     "name": "stdout",
     "output_type": "stream",
     "text": [
      "[17:55:15] WARNING: C:/Users/Administrator/workspace/xgboost-win64_release_1.4.0/src/learner.cc:573: \n",
      "Parameters: { \"silent\" } might not be used.\n",
      "\n",
      "  This may not be accurate due to some parameters are only used in language bindings but\n",
      "  passed down to XGBoost core.  Or some parameters are not used but slip through this\n",
      "  verification. Please open an issue if you find above cases.\n",
      "\n",
      "\n"
     ]
    },
    {
     "name": "stderr",
     "output_type": "stream",
     "text": [
      "C:\\Users\\srira\\anaconda3\\lib\\site-packages\\xgboost\\data.py:112: UserWarning: Use subset (sliced data) of np.ndarray is not recommended because it will generate extra copies and increase memory consumption\n",
      "  warnings.warn(\n"
     ]
    },
    {
     "name": "stdout",
     "output_type": "stream",
     "text": [
      "[17:55:17] WARNING: C:/Users/Administrator/workspace/xgboost-win64_release_1.4.0/src/learner.cc:573: \n",
      "Parameters: { \"silent\" } might not be used.\n",
      "\n",
      "  This may not be accurate due to some parameters are only used in language bindings but\n",
      "  passed down to XGBoost core.  Or some parameters are not used but slip through this\n",
      "  verification. Please open an issue if you find above cases.\n",
      "\n",
      "\n"
     ]
    },
    {
     "name": "stderr",
     "output_type": "stream",
     "text": [
      "C:\\Users\\srira\\anaconda3\\lib\\site-packages\\xgboost\\data.py:112: UserWarning: Use subset (sliced data) of np.ndarray is not recommended because it will generate extra copies and increase memory consumption\n",
      "  warnings.warn(\n"
     ]
    },
    {
     "name": "stdout",
     "output_type": "stream",
     "text": [
      "[17:55:18] WARNING: C:/Users/Administrator/workspace/xgboost-win64_release_1.4.0/src/learner.cc:573: \n",
      "Parameters: { \"silent\" } might not be used.\n",
      "\n",
      "  This may not be accurate due to some parameters are only used in language bindings but\n",
      "  passed down to XGBoost core.  Or some parameters are not used but slip through this\n",
      "  verification. Please open an issue if you find above cases.\n",
      "\n",
      "\n"
     ]
    },
    {
     "name": "stderr",
     "output_type": "stream",
     "text": [
      "C:\\Users\\srira\\anaconda3\\lib\\site-packages\\xgboost\\data.py:112: UserWarning: Use subset (sliced data) of np.ndarray is not recommended because it will generate extra copies and increase memory consumption\n",
      "  warnings.warn(\n"
     ]
    },
    {
     "name": "stdout",
     "output_type": "stream",
     "text": [
      "[17:55:19] WARNING: C:/Users/Administrator/workspace/xgboost-win64_release_1.4.0/src/learner.cc:573: \n",
      "Parameters: { \"silent\" } might not be used.\n",
      "\n",
      "  This may not be accurate due to some parameters are only used in language bindings but\n",
      "  passed down to XGBoost core.  Or some parameters are not used but slip through this\n",
      "  verification. Please open an issue if you find above cases.\n",
      "\n",
      "\n"
     ]
    },
    {
     "name": "stderr",
     "output_type": "stream",
     "text": [
      "C:\\Users\\srira\\anaconda3\\lib\\site-packages\\xgboost\\data.py:112: UserWarning: Use subset (sliced data) of np.ndarray is not recommended because it will generate extra copies and increase memory consumption\n",
      "  warnings.warn(\n"
     ]
    },
    {
     "name": "stdout",
     "output_type": "stream",
     "text": [
      "[17:55:21] WARNING: C:/Users/Administrator/workspace/xgboost-win64_release_1.4.0/src/learner.cc:573: \n",
      "Parameters: { \"silent\" } might not be used.\n",
      "\n",
      "  This may not be accurate due to some parameters are only used in language bindings but\n",
      "  passed down to XGBoost core.  Or some parameters are not used but slip through this\n",
      "  verification. Please open an issue if you find above cases.\n",
      "\n",
      "\n"
     ]
    },
    {
     "name": "stderr",
     "output_type": "stream",
     "text": [
      "C:\\Users\\srira\\anaconda3\\lib\\site-packages\\xgboost\\data.py:112: UserWarning: Use subset (sliced data) of np.ndarray is not recommended because it will generate extra copies and increase memory consumption\n",
      "  warnings.warn(\n"
     ]
    },
    {
     "name": "stdout",
     "output_type": "stream",
     "text": [
      "[17:55:22] WARNING: C:/Users/Administrator/workspace/xgboost-win64_release_1.4.0/src/learner.cc:573: \n",
      "Parameters: { \"silent\" } might not be used.\n",
      "\n",
      "  This may not be accurate due to some parameters are only used in language bindings but\n",
      "  passed down to XGBoost core.  Or some parameters are not used but slip through this\n",
      "  verification. Please open an issue if you find above cases.\n",
      "\n",
      "\n"
     ]
    },
    {
     "name": "stderr",
     "output_type": "stream",
     "text": [
      "C:\\Users\\srira\\anaconda3\\lib\\site-packages\\xgboost\\data.py:112: UserWarning: Use subset (sliced data) of np.ndarray is not recommended because it will generate extra copies and increase memory consumption\n",
      "  warnings.warn(\n"
     ]
    },
    {
     "name": "stdout",
     "output_type": "stream",
     "text": [
      "[17:55:23] WARNING: C:/Users/Administrator/workspace/xgboost-win64_release_1.4.0/src/learner.cc:573: \n",
      "Parameters: { \"silent\" } might not be used.\n",
      "\n",
      "  This may not be accurate due to some parameters are only used in language bindings but\n",
      "  passed down to XGBoost core.  Or some parameters are not used but slip through this\n",
      "  verification. Please open an issue if you find above cases.\n",
      "\n",
      "\n"
     ]
    },
    {
     "name": "stderr",
     "output_type": "stream",
     "text": [
      "C:\\Users\\srira\\anaconda3\\lib\\site-packages\\xgboost\\data.py:112: UserWarning: Use subset (sliced data) of np.ndarray is not recommended because it will generate extra copies and increase memory consumption\n",
      "  warnings.warn(\n"
     ]
    },
    {
     "name": "stdout",
     "output_type": "stream",
     "text": [
      "[17:55:24] WARNING: C:/Users/Administrator/workspace/xgboost-win64_release_1.4.0/src/learner.cc:573: \n",
      "Parameters: { \"silent\" } might not be used.\n",
      "\n",
      "  This may not be accurate due to some parameters are only used in language bindings but\n",
      "  passed down to XGBoost core.  Or some parameters are not used but slip through this\n",
      "  verification. Please open an issue if you find above cases.\n",
      "\n",
      "\n"
     ]
    },
    {
     "name": "stderr",
     "output_type": "stream",
     "text": [
      "C:\\Users\\srira\\anaconda3\\lib\\site-packages\\xgboost\\data.py:112: UserWarning: Use subset (sliced data) of np.ndarray is not recommended because it will generate extra copies and increase memory consumption\n",
      "  warnings.warn(\n"
     ]
    },
    {
     "name": "stdout",
     "output_type": "stream",
     "text": [
      "[17:55:26] WARNING: C:/Users/Administrator/workspace/xgboost-win64_release_1.4.0/src/learner.cc:573: \n",
      "Parameters: { \"silent\" } might not be used.\n",
      "\n",
      "  This may not be accurate due to some parameters are only used in language bindings but\n",
      "  passed down to XGBoost core.  Or some parameters are not used but slip through this\n",
      "  verification. Please open an issue if you find above cases.\n",
      "\n",
      "\n"
     ]
    },
    {
     "name": "stderr",
     "output_type": "stream",
     "text": [
      "C:\\Users\\srira\\anaconda3\\lib\\site-packages\\xgboost\\data.py:112: UserWarning: Use subset (sliced data) of np.ndarray is not recommended because it will generate extra copies and increase memory consumption\n",
      "  warnings.warn(\n"
     ]
    }
   ],
   "source": [
    "#cross validation\n",
    "\n",
    "from sklearn.model_selection import cross_val_score\n",
    "\n",
    "XGB_accuracies = cross_val_score(estimator = xgb_model, X = x_test, y = y_test, cv = 10, scoring='neg_mean_absolute_error')"
   ]
  },
  {
   "cell_type": "code",
   "execution_count": 34,
   "metadata": {},
   "outputs": [
    {
     "name": "stdout",
     "output_type": "stream",
     "text": [
      "{'rmse': 0.6727881263237749, 'mape': 19.868316728441393, 'mae': 0.49673443565659375, 'predictions': array([3.752498 , 3.0354886, 4.247462 , ..., 4.5327907, 4.1087923,\n",
      "       3.2920923], dtype=float32)}\n"
     ]
    }
   ],
   "source": [
    "print(test_results)"
   ]
  },
  {
   "cell_type": "code",
   "execution_count": 35,
   "metadata": {},
   "outputs": [
    {
     "name": "stdout",
     "output_type": "stream",
     "text": [
      "[0.5815836663256794, 0.5609908832378416, 0.517905572867949, 0.4844918411648031, 0.505054748318369, 0.43121105125178544, 0.3769662363004968, 0.3450739507812288, 0.3481517477212326, 0.31360993957302224]\n"
     ]
    }
   ],
   "source": [
    "maes = []\n",
    "for i in range(0, len(XGB_accuracies)):\n",
    "    maes.append(-1 * XGB_accuracies[i])\n",
    "print(maes)"
   ]
  },
  {
   "cell_type": "code",
   "execution_count": 36,
   "metadata": {},
   "outputs": [
    {
     "name": "stdout",
     "output_type": "stream",
     "text": [
      "[0.69, 0.65, 0.73, 0.72, 0.69, 0.65, 0.73, 0.69, 0.69, 0.72]\n",
      "[0.9591663046625439, 0.9746794344808963, 0.938083151964686, 0.9591663046625439, 0.9591663046625439, 0.9354143466934853, 0.9460443964212251, 0.9746794344808963, 0.9772410142846032, 0.9591663046625439]\n",
      "[[0.5815836663256794, 0.5609908832378416, 0.517905572867949, 0.4844918411648031, 0.505054748318369, 0.43121105125178544, 0.3769662363004968, 0.3450739507812288, 0.3481517477212326, 0.31360993957302224], [0.69, 0.65, 0.73, 0.72, 0.69, 0.65, 0.73, 0.69, 0.69, 0.72], [0.6638, 0.6652, 0.6658, 0.6654, 0.6759, 0.6671, 0.6562, 0.6659, 0.6741, 0.6686]]\n"
     ]
    }
   ],
   "source": [
    "pragnaMAE = [0.69, 0.65, 0.73, 0.72, 0.69, 0.65, 0.73, 0.69, 0.69, 0.72]\n",
    "print(pragnaMAE)\n",
    "\n",
    "pragMSE = [0.92, 0.95, 0.88, 0.92, 0.92, 0.875, 0.895, 0.95, 0.955, 0.92]\n",
    "pragnaRMSE = []\n",
    "\n",
    "for elem in pragMSE:\n",
    "    pragnaRMSE.append(elem ** 0.5)\n",
    "print(pragnaRMSE)\n",
    "\n",
    "conorRMSE = [0.8722 , 0.8685 , 0.8599 , 0.8659 , 0.8642 , 0.8703 , 0.8723 , 0.8622 , 0.8711 , 0.8810]\n",
    "conorMAE = [0.6638 , 0.6652 , 0.6658,  0.6654 , 0.6759 , 0.6671 , 0.6562  ,0.6659  ,0.6741 , 0.6686 ]\n",
    "\n",
    "allMAE = []\n",
    "allMAE.append(maes)\n",
    "allMAE.append(pragnaMAE)\n",
    "allMAE.append(conorMAE)\n",
    "\n",
    "allRMSE = []\n",
    "\n",
    "allRMSE.append(maes)\n",
    "allRMSE.append(pragnaRMSE)\n",
    "allRMSE.append(conorRMSE)\n",
    "\n",
    "print(allMAE)"
   ]
  },
  {
   "cell_type": "code",
   "execution_count": 37,
   "metadata": {},
   "outputs": [
    {
     "data": {
      "text/plain": [
       "Text(0.5, 1.0, 'Mean Absolute Error after running 10-fold cross validation')"
      ]
     },
     "execution_count": 37,
     "metadata": {},
     "output_type": "execute_result"
    },
    {
     "data": {
      "image/png": "[encoded data removed]",
      "text/plain": [
       "<Figure size 432x288 with 1 Axes>"
      ]
     },
     "metadata": {
      "needs_background": "light"
     },
     "output_type": "display_data"
    }
   ],
   "source": [
    "import matplotlib.pyplot as plt\n",
    "\n",
    "plt.boxplot(allMAE, labels=['xgboost', 'Neural Net', 'SVD'])\n",
    "plt.title(\"Mean Absolute Error after running 10-fold cross validation\")"
   ]
  },
  {
   "cell_type": "code",
   "execution_count": 38,
   "metadata": {},
   "outputs": [],
   "source": [
    "#del x_test[\"Predicted Rating\"]\n",
    "#del y_test[\"Predicted Rating\"]\n",
    "\n",
    "#print(x_test)\n",
    "#print(y_test)"
   ]
  },
  {
   "cell_type": "code",
   "execution_count": null,
   "metadata": {},
   "outputs": [],
   "source": []
  }
 ],
 "metadata": {
  "kernelspec": {
   "display_name": "Python 3",
   "language": "python",
   "name": "python3"
  },
  "language_info": {
   "codemirror_mode": {
    "name": "ipython",
    "version": 3
   },
   "file_extension": ".py",
   "mimetype": "text/x-python",
   "name": "python",
   "nbconvert_exporter": "python",
   "pygments_lexer": "ipython3",
   "version": "3.8.3"
  }
 },
 "nbformat": 4,
 "nbformat_minor": 4
}
