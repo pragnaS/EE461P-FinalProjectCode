{
 "cells": [
  {
   "cell_type": "code",
   "execution_count": 1,
   "metadata": {},
   "outputs": [
    {
     "name": "stdout",
     "output_type": "stream",
     "text": [
      "Number of movies Null values:  0\n",
      "Number of ratings Null values:  0\n",
      "   userId  movieId  rating  timestamp             title  (no genres listed)  \\\n",
      "0       1        1     4.0       2000  Toy Story (1995)                   0   \n",
      "1       5        1     4.0       1996  Toy Story (1995)                   0   \n",
      "2       7        1     4.5       2005  Toy Story (1995)                   0   \n",
      "3      15        1     2.5       2017  Toy Story (1995)                   0   \n",
      "4      17        1     4.5       2011  Toy Story (1995)                   0   \n",
      "\n",
      "   Action  Adventure  Animation  Children  ...  Horror  IMAX  Musical  \\\n",
      "0       0          1          1         1  ...       0     0        0   \n",
      "1       0          1          1         1  ...       0     0        0   \n",
      "2       0          1          1         1  ...       0     0        0   \n",
      "3       0          1          1         1  ...       0     0        0   \n",
      "4       0          1          1         1  ...       0     0        0   \n",
      "\n",
      "   Mystery  Romance  Sci-Fi  Thriller  War  Western  year  \n",
      "0        0        0       0         0    0        0     4  \n",
      "1        0        0       0         0    0        0     0  \n",
      "2        0        0       0         0    0        0     9  \n",
      "3        0        0       0         0    0        0    21  \n",
      "4        0        0       0         0    0        0    15  \n",
      "\n",
      "[5 rows x 26 columns]\n"
     ]
    }
   ],
   "source": [
    "import numpy as np\n",
    "import pandas as pd\n",
    "from sklearn.model_selection import train_test_split\n",
    "from sklearn.preprocessing import LabelEncoder\n",
    "from sklearn.ensemble import RandomForestRegressor\n",
    "from sklearn.metrics import accuracy_score, confusion_matrix, mean_squared_error\n",
    "from sklearn.model_selection import GridSearchCV\n",
    "from sklearn.metrics import roc_auc_score\n",
    "import matplotlib.pyplot as plt\n",
    "from sklearn.preprocessing import LabelEncoder\n",
    "\n",
    "\n",
    "\n",
    "#ratings = pd.read_csv('rating.csv')\n",
    "ratings = pd.read_csv('ratings.csv')\n",
    "ratings.head()\n",
    "\n",
    "\n",
    "#movies = pd.read_csv('movie.csv')\n",
    "movies = pd.read_csv('movies.csv')\n",
    "movies.head()\n",
    "\n",
    "#rand_userIds = np.random.choice(ratings['userId'].unique(), \n",
    " #                               size=int(len(ratings['userId'].unique())*0.1), \n",
    "  #                              replace=False)\n",
    "\n",
    "#ratings = ratings.loc[ratings['userId'].isin(rand_userIds)]\n",
    "\n",
    "# change time stamps to years\n",
    "ratingsConv = pd.to_datetime(ratings['timestamp'], unit='s')\n",
    "ratings.timestamp = ratingsConv.to_frame().timestamp.dt.year\n",
    "\n",
    "\n",
    "# Check and clean NaN values\n",
    "print (\"Number of movies Null values: \", max(movies.isnull().sum()))\n",
    "print (\"Number of ratings Null values: \", max(ratings.isnull().sum()))\n",
    "movies.dropna(inplace=True)\n",
    "ratings.dropna(inplace=True)\n",
    "\n",
    "# Organise a bit, then save into feather-formatand clear from memory\n",
    "#movies.sort_values(by='movieId', inplace=True)\n",
    "#ratings.sort_values(by='userId', inplace=True)\n",
    "movies.reset_index(inplace=True, drop=True)\n",
    "ratings.reset_index(inplace=True, drop=True)\n",
    "\n",
    "# merge two dataframes \n",
    "\n",
    "df=ratings.merge(movies,on = 'movieId',how = 'inner')\n",
    "    \n",
    "# one-hot encoding for genres\n",
    "\n",
    "# Categorize movies genres properly. Working later with +20MM rows of strings proved very resource consuming\n",
    "genres_unique = pd.DataFrame(df.genres.str.split('|').tolist()).stack().unique()\n",
    "genres_unique = pd.DataFrame(genres_unique, columns=['genres']) # Format into DataFrame to store later\n",
    "df = df.join(df.genres.str.get_dummies().astype(int))\n",
    "df.drop('genres', inplace=True, axis=1)\n",
    "\n",
    "# Label encoding on the years\n",
    "\n",
    "time_enc = LabelEncoder()\n",
    "df['year'] = time_enc.fit_transform(df['timestamp'].values)\n",
    "n_times = df['year'].unique()\n",
    "\n",
    "print(df.head())\n",
    "\n"
   ]
  },
  {
   "cell_type": "code",
   "execution_count": 2,
   "metadata": {},
   "outputs": [
    {
     "name": "stdout",
     "output_type": "stream",
     "text": [
      "0         4.0\n",
      "1         4.0\n",
      "2         4.5\n",
      "3         2.5\n",
      "4         4.5\n",
      "         ... \n",
      "100831    2.5\n",
      "100832    4.5\n",
      "100833    3.0\n",
      "100834    3.5\n",
      "100835    3.5\n",
      "Name: rating, Length: 100836, dtype: float64\n",
      "        userId  movieId  (no genres listed)  Action  Adventure  Animation  \\\n",
      "0            1        1                   0       0          1          1   \n",
      "1            5        1                   0       0          1          1   \n",
      "2            7        1                   0       0          1          1   \n",
      "3           15        1                   0       0          1          1   \n",
      "4           17        1                   0       0          1          1   \n",
      "...        ...      ...                 ...     ...        ...        ...   \n",
      "100831     610   160341                   0       1          0          0   \n",
      "100832     610   160527                   0       1          0          0   \n",
      "100833     610   160836                   0       1          0          0   \n",
      "100834     610   163937                   0       0          0          0   \n",
      "100835     610   163981                   0       0          0          0   \n",
      "\n",
      "        Children  Comedy  Crime  Documentary  ...  Film-Noir  Horror  IMAX  \\\n",
      "0              1       1      0            0  ...          0       0     0   \n",
      "1              1       1      0            0  ...          0       0     0   \n",
      "2              1       1      0            0  ...          0       0     0   \n",
      "3              1       1      0            0  ...          0       0     0   \n",
      "4              1       1      0            0  ...          0       0     0   \n",
      "...          ...     ...    ...          ...  ...        ...     ...   ...   \n",
      "100831         0       0      0            0  ...          0       0     0   \n",
      "100832         0       0      1            0  ...          0       0     0   \n",
      "100833         0       0      0            0  ...          0       0     0   \n",
      "100834         0       0      0            0  ...          0       1     0   \n",
      "100835         0       0      0            0  ...          0       1     0   \n",
      "\n",
      "        Musical  Mystery  Romance  Sci-Fi  Thriller  War  Western  \n",
      "0             0        0        0       0         0    0        0  \n",
      "1             0        0        0       0         0    0        0  \n",
      "2             0        0        0       0         0    0        0  \n",
      "3             0        0        0       0         0    0        0  \n",
      "4             0        0        0       0         0    0        0  \n",
      "...         ...      ...      ...     ...       ...  ...      ...  \n",
      "100831        0        0        0       0         1    0        0  \n",
      "100832        0        0        0       0         0    0        0  \n",
      "100833        0        0        0       0         1    0        0  \n",
      "100834        0        0        0       0         1    0        0  \n",
      "100835        0        0        0       0         0    0        0  \n",
      "\n",
      "[100836 rows x 22 columns]\n",
      "Mean Squared Error (MSE): 0.9030108822848831\n",
      "Mean Squared Error (MSE): 0.9036765503619715\n",
      "Mean Squared Error (MSE): 0.9028118161383095\n"
     ]
    },
    {
     "data": {
      "image/png": "[encoded data removed]",
      "text/plain": [
       "<Figure size 432x288 with 1 Axes>"
      ]
     },
     "metadata": {
      "needs_background": "light"
     },
     "output_type": "display_data"
    }
   ],
   "source": [
    "# train only on genres, userId, movieId\n",
    "y = df['rating']\n",
    "X = df.drop(columns = ['rating', 'title', 'timestamp', 'year'])\n",
    "\n",
    "print(y)\n",
    "print(X)\n",
    "\n",
    "X_train, X_test, y_train, y_test = train_test_split(X, y, test_size=0.3, random_state=42)\n",
    "X_train.shape, X_test.shape, y_train.shape, y_test.shape\n",
    "\n",
    "mses1 = []\n",
    "for i in range(0, 3):\n",
    "    rfc = RandomForestRegressor()\n",
    "    rfc.fit(X_train, y_train)\n",
    "    ypred = rfc.predict(X_test)\n",
    "    print('Mean Squared Error (MSE): ' + str(mean_squared_error(y_test, ypred)))\n",
    "    mses1.append(mean_squared_error(y_test, ypred))\n",
    "plt.boxplot(mses1)\n",
    "plt.show()"
   ]
  },
  {
   "cell_type": "code",
   "execution_count": 3,
   "metadata": {},
   "outputs": [
    {
     "data": {
      "text/plain": [
       "\"\\n# dictionary for all movieId's to map to a list of their genres\\n\\ndic = {}\\n\\nfor index, row in movies.iterrows():\\n    allGenres = row['genres']\\n    #indGenres = allGenres.split('|')\\n    dic[row['movieId']] = allGenres \\n    \\n# one hot-encodings\\n# https://towardsdatascience.com/what-is-one-hot-encoding-and-how-to-use-pandas-get-dummies-function-922eb9bd4970\\n#print(ratings)\\nfor ind in ratings.index:\\n    curGenres = dic[ratings['movieId'][ind]]\\n    #print(curGenres)\\n    ratings.at[ind, 'genre'] = curGenres\\n    #print(ratings.at[ind, genre])\\n\\n# Categorize movies genres properly. Working later with +20MM rows of strings proved very resource consuming\\ngenres_unique = pd.DataFrame(ratings.genre.str.split('|').tolist()).stack().unique()\\ngenres_unique = pd.DataFrame(genres_unique, columns=['genre']) # Format into DataFrame to store later\\nratings = ratings.join(ratings.genre.str.get_dummies().astype(int))\\nratings.drop('genre', inplace=True, axis=1)\\n\\nprint(ratings.head())\\n\\n    \\n\""
      ]
     },
     "execution_count": 3,
     "metadata": {},
     "output_type": "execute_result"
    }
   ],
   "source": [
    "'''\n",
    "# dictionary for all movieId's to map to a list of their genres\n",
    "\n",
    "dic = {}\n",
    "\n",
    "for index, row in movies.iterrows():\n",
    "    allGenres = row['genres']\n",
    "    #indGenres = allGenres.split('|')\n",
    "    dic[row['movieId']] = allGenres \n",
    "    \n",
    "# one hot-encodings\n",
    "# https://towardsdatascience.com/what-is-one-hot-encoding-and-how-to-use-pandas-get-dummies-function-922eb9bd4970\n",
    "#print(ratings)\n",
    "for ind in ratings.index:\n",
    "    curGenres = dic[ratings['movieId'][ind]]\n",
    "    #print(curGenres)\n",
    "    ratings.at[ind, 'genre'] = curGenres\n",
    "    #print(ratings.at[ind, genre])\n",
    "\n",
    "# Categorize movies genres properly. Working later with +20MM rows of strings proved very resource consuming\n",
    "genres_unique = pd.DataFrame(ratings.genre.str.split('|').tolist()).stack().unique()\n",
    "genres_unique = pd.DataFrame(genres_unique, columns=['genre']) # Format into DataFrame to store later\n",
    "ratings = ratings.join(ratings.genre.str.get_dummies().astype(int))\n",
    "ratings.drop('genre', inplace=True, axis=1)\n",
    "\n",
    "print(ratings.head())\n",
    "\n",
    "    \n",
    "'''\n"
   ]
  },
  {
   "cell_type": "code",
   "execution_count": 4,
   "metadata": {},
   "outputs": [
    {
     "name": "stdout",
     "output_type": "stream",
     "text": [
      "        userId  year\n",
      "0            1     4\n",
      "1            5     0\n",
      "2            7     9\n",
      "3           15    21\n",
      "4           17    15\n",
      "...        ...   ...\n",
      "100831     610    20\n",
      "100832     610    20\n",
      "100833     610    21\n",
      "100834     610    21\n",
      "100835     610    21\n",
      "\n",
      "[100836 rows x 2 columns]\n"
     ]
    },
    {
     "data": {
      "text/plain": [
       "((70585, 2), (30251, 2), (70585,), (30251,))"
      ]
     },
     "execution_count": 4,
     "metadata": {},
     "output_type": "execute_result"
    }
   ],
   "source": [
    "#train only on userId and year\n",
    "y = df['rating'].values\n",
    "X = df.drop(columns = ['rating', 'title', 'timestamp'])\n",
    "X = df[['userId', 'year']]\n",
    "\n",
    "print(X)\n",
    "\n",
    "X_train, X_test, y_train, y_test = train_test_split(X, y, test_size=0.3, random_state=42)\n",
    "X_train.shape, X_test.shape, y_train.shape, y_test.shape"
   ]
  },
  {
   "cell_type": "code",
   "execution_count": 5,
   "metadata": {},
   "outputs": [
    {
     "name": "stdout",
     "output_type": "stream",
     "text": [
      "Mean Squared Error (MSE): 0.8661845742704752\n",
      "Mean Squared Error (MSE): 0.8661088036246622\n",
      "Mean Squared Error (MSE): 0.8658588286963611\n"
     ]
    }
   ],
   "source": [
    "mses2 = []\n",
    "for i in range(0, 3):\n",
    "    rfc = RandomForestRegressor()\n",
    "    rfc.fit(X_train, y_train)\n",
    "    ypred = rfc.predict(X_test)\n",
    "    print('Mean Squared Error (MSE): ' + str(mean_squared_error(y_test, ypred)))\n",
    "    mses2.append(mean_squared_error(y_test, ypred))"
   ]
  },
  {
   "cell_type": "code",
   "execution_count": 6,
   "metadata": {},
   "outputs": [
    {
     "data": {
      "image/png": "[encoded data removed]",
      "text/plain": [
       "<Figure size 432x288 with 1 Axes>"
      ]
     },
     "metadata": {
      "needs_background": "light"
     },
     "output_type": "display_data"
    }
   ],
   "source": [
    "# show boxplot of ten runs\n",
    "\n",
    "plt.boxplot([mses1, mses2])\n",
    "#plt.boxplot(mses1)\n",
    "plt.show()"
   ]
  },
  {
   "cell_type": "code",
   "execution_count": 7,
   "metadata": {},
   "outputs": [
    {
     "name": "stdout",
     "output_type": "stream",
     "text": [
      "        userId  movieId  Action  Adventure  Animation  Children  Comedy  \\\n",
      "0            1        1       0          1          1         1       1   \n",
      "1            5        1       0          1          1         1       1   \n",
      "2            7        1       0          1          1         1       1   \n",
      "3           15        1       0          1          1         1       1   \n",
      "4           17        1       0          1          1         1       1   \n",
      "...        ...      ...     ...        ...        ...       ...     ...   \n",
      "100831     610   160341       1          0          0         0       0   \n",
      "100832     610   160527       1          0          0         0       0   \n",
      "100833     610   160836       1          0          0         0       0   \n",
      "100834     610   163937       0          0          0         0       0   \n",
      "100835     610   163981       0          0          0         0       0   \n",
      "\n",
      "        Crime  Documentary  Drama  ...  Horror  IMAX  Musical  Mystery  \\\n",
      "0           0            0      0  ...       0     0        0        0   \n",
      "1           0            0      0  ...       0     0        0        0   \n",
      "2           0            0      0  ...       0     0        0        0   \n",
      "3           0            0      0  ...       0     0        0        0   \n",
      "4           0            0      0  ...       0     0        0        0   \n",
      "...       ...          ...    ...  ...     ...   ...      ...      ...   \n",
      "100831      0            0      0  ...       0     0        0        0   \n",
      "100832      1            0      1  ...       0     0        0        0   \n",
      "100833      0            0      1  ...       0     0        0        0   \n",
      "100834      0            0      0  ...       1     0        0        0   \n",
      "100835      0            0      0  ...       1     0        0        0   \n",
      "\n",
      "        Romance  Sci-Fi  Thriller  War  Western  year  \n",
      "0             0       0         0    0        0     4  \n",
      "1             0       0         0    0        0     0  \n",
      "2             0       0         0    0        0     9  \n",
      "3             0       0         0    0        0    21  \n",
      "4             0       0         0    0        0    15  \n",
      "...         ...     ...       ...  ...      ...   ...  \n",
      "100831        0       0         1    0        0    20  \n",
      "100832        0       0         0    0        0    20  \n",
      "100833        0       0         1    0        0    21  \n",
      "100834        0       0         1    0        0    21  \n",
      "100835        0       0         0    0        0    21  \n",
      "\n",
      "[100836 rows x 22 columns]\n",
      "Mean Squared Error (MSE): 0.8576181010545106\n",
      "Mean Squared Error (MSE): 0.8537702447852964\n",
      "Mean Squared Error (MSE): 0.8551383119566296\n"
     ]
    }
   ],
   "source": [
    "# drop one column to get rid of colinearity, and train only on genres, userId, year \n",
    "\n",
    "X = df.drop(columns = ['rating', '(no genres listed)','title', 'timestamp'])\n",
    "y = df['rating'].values\n",
    "print(X)\n",
    "\n",
    "X_train, X_test, y_train, y_test = train_test_split(X, y, test_size=0.3, random_state=42)\n",
    "X_train.shape, X_test.shape, y_train.shape, y_test.shape  \n",
    "                 \n",
    "mses3 = []\n",
    "for i in range(0, 3):\n",
    "    rfc = RandomForestRegressor()\n",
    "    rfc.fit(X_train, y_train)\n",
    "    ypred = rfc.predict(X_test)\n",
    "    print('Mean Squared Error (MSE): ' + str(mean_squared_error(y_test, ypred)))\n",
    "    mses3.append(mean_squared_error(y_test, ypred))\n"
   ]
  },
  {
   "cell_type": "code",
   "execution_count": 8,
   "metadata": {},
   "outputs": [
    {
     "data": {
      "image/png": "[encoded data removed]",
      "text/plain": [
       "<Figure size 432x288 with 1 Axes>"
      ]
     },
     "metadata": {
      "needs_background": "light"
     },
     "output_type": "display_data"
    },
    {
     "ename": "ValueError",
     "evalue": "Pandas data cast to numpy dtype of object. Check input data with np.asarray(data).",
     "output_type": "error",
     "traceback": [
      "\u001b[1;31m---------------------------------------------------------------------------\u001b[0m",
      "\u001b[1;31mValueError\u001b[0m                                Traceback (most recent call last)",
      "\u001b[1;32m<ipython-input-8-26f931a4d0ff>\u001b[0m in \u001b[0;36m<module>\u001b[1;34m\u001b[0m\n\u001b[0;32m     19\u001b[0m \u001b[1;33m\u001b[0m\u001b[0m\n\u001b[0;32m     20\u001b[0m \u001b[0mX\u001b[0m\u001b[1;33m=\u001b[0m\u001b[0mdf\u001b[0m\u001b[1;33m.\u001b[0m\u001b[0mdrop\u001b[0m\u001b[1;33m(\u001b[0m\u001b[1;33m[\u001b[0m\u001b[1;34m'rating'\u001b[0m\u001b[1;33m]\u001b[0m\u001b[1;33m,\u001b[0m\u001b[0maxis\u001b[0m\u001b[1;33m=\u001b[0m\u001b[1;36m1\u001b[0m\u001b[1;33m)\u001b[0m\u001b[1;33m\u001b[0m\u001b[1;33m\u001b[0m\u001b[0m\n\u001b[1;32m---> 21\u001b[1;33m \u001b[0mcalculate_vif\u001b[0m\u001b[1;33m(\u001b[0m\u001b[0mX\u001b[0m\u001b[1;33m)\u001b[0m\u001b[1;33m\u001b[0m\u001b[1;33m\u001b[0m\u001b[0m\n\u001b[0m",
      "\u001b[1;32m<ipython-input-8-26f931a4d0ff>\u001b[0m in \u001b[0;36mcalculate_vif\u001b[1;34m(data)\u001b[0m\n\u001b[0;32m     13\u001b[0m         \u001b[0my\u001b[0m \u001b[1;33m=\u001b[0m \u001b[0mdata\u001b[0m\u001b[1;33m[\u001b[0m\u001b[0mx_var_names\u001b[0m\u001b[1;33m[\u001b[0m\u001b[0mi\u001b[0m\u001b[1;33m]\u001b[0m\u001b[1;33m]\u001b[0m\u001b[1;33m\u001b[0m\u001b[1;33m\u001b[0m\u001b[0m\n\u001b[0;32m     14\u001b[0m         \u001b[0mx\u001b[0m \u001b[1;33m=\u001b[0m \u001b[0mdata\u001b[0m\u001b[1;33m[\u001b[0m\u001b[0mx_var_names\u001b[0m\u001b[1;33m.\u001b[0m\u001b[0mdrop\u001b[0m\u001b[1;33m(\u001b[0m\u001b[1;33m[\u001b[0m\u001b[0mx_var_names\u001b[0m\u001b[1;33m[\u001b[0m\u001b[0mi\u001b[0m\u001b[1;33m]\u001b[0m\u001b[1;33m]\u001b[0m\u001b[1;33m)\u001b[0m\u001b[1;33m]\u001b[0m\u001b[1;33m\u001b[0m\u001b[1;33m\u001b[0m\u001b[0m\n\u001b[1;32m---> 15\u001b[1;33m         \u001b[0mr_squared\u001b[0m \u001b[1;33m=\u001b[0m \u001b[0msm\u001b[0m\u001b[1;33m.\u001b[0m\u001b[0mOLS\u001b[0m\u001b[1;33m(\u001b[0m\u001b[0my\u001b[0m\u001b[1;33m,\u001b[0m\u001b[0mx\u001b[0m\u001b[1;33m)\u001b[0m\u001b[1;33m.\u001b[0m\u001b[0mfit\u001b[0m\u001b[1;33m(\u001b[0m\u001b[1;33m)\u001b[0m\u001b[1;33m.\u001b[0m\u001b[0mrsquared\u001b[0m\u001b[1;33m\u001b[0m\u001b[1;33m\u001b[0m\u001b[0m\n\u001b[0m\u001b[0;32m     16\u001b[0m         \u001b[0mvif\u001b[0m \u001b[1;33m=\u001b[0m \u001b[0mround\u001b[0m\u001b[1;33m(\u001b[0m\u001b[1;36m1\u001b[0m\u001b[1;33m/\u001b[0m\u001b[1;33m(\u001b[0m\u001b[1;36m1\u001b[0m\u001b[1;33m-\u001b[0m\u001b[0mr_squared\u001b[0m\u001b[1;33m)\u001b[0m\u001b[1;33m,\u001b[0m\u001b[1;36m2\u001b[0m\u001b[1;33m)\u001b[0m\u001b[1;33m\u001b[0m\u001b[1;33m\u001b[0m\u001b[0m\n\u001b[0;32m     17\u001b[0m         \u001b[0mvif_df\u001b[0m\u001b[1;33m.\u001b[0m\u001b[0mloc\u001b[0m\u001b[1;33m[\u001b[0m\u001b[0mi\u001b[0m\u001b[1;33m]\u001b[0m \u001b[1;33m=\u001b[0m \u001b[1;33m[\u001b[0m\u001b[0mx_var_names\u001b[0m\u001b[1;33m[\u001b[0m\u001b[0mi\u001b[0m\u001b[1;33m]\u001b[0m\u001b[1;33m,\u001b[0m \u001b[0mvif\u001b[0m\u001b[1;33m]\u001b[0m\u001b[1;33m\u001b[0m\u001b[1;33m\u001b[0m\u001b[0m\n",
      "\u001b[1;32m~\\anaconda3\\lib\\site-packages\\statsmodels\\regression\\linear_model.py\u001b[0m in \u001b[0;36m__init__\u001b[1;34m(self, endog, exog, missing, hasconst, **kwargs)\u001b[0m\n\u001b[0;32m    856\u001b[0m     def __init__(self, endog, exog=None, missing='none', hasconst=None,\n\u001b[0;32m    857\u001b[0m                  **kwargs):\n\u001b[1;32m--> 858\u001b[1;33m         super(OLS, self).__init__(endog, exog, missing=missing,\n\u001b[0m\u001b[0;32m    859\u001b[0m                                   hasconst=hasconst, **kwargs)\n\u001b[0;32m    860\u001b[0m         \u001b[1;32mif\u001b[0m \u001b[1;34m\"weights\"\u001b[0m \u001b[1;32min\u001b[0m \u001b[0mself\u001b[0m\u001b[1;33m.\u001b[0m\u001b[0m_init_keys\u001b[0m\u001b[1;33m:\u001b[0m\u001b[1;33m\u001b[0m\u001b[1;33m\u001b[0m\u001b[0m\n",
      "\u001b[1;32m~\\anaconda3\\lib\\site-packages\\statsmodels\\regression\\linear_model.py\u001b[0m in \u001b[0;36m__init__\u001b[1;34m(self, endog, exog, weights, missing, hasconst, **kwargs)\u001b[0m\n\u001b[0;32m    699\u001b[0m         \u001b[1;32melse\u001b[0m\u001b[1;33m:\u001b[0m\u001b[1;33m\u001b[0m\u001b[1;33m\u001b[0m\u001b[0m\n\u001b[0;32m    700\u001b[0m             \u001b[0mweights\u001b[0m \u001b[1;33m=\u001b[0m \u001b[0mweights\u001b[0m\u001b[1;33m.\u001b[0m\u001b[0msqueeze\u001b[0m\u001b[1;33m(\u001b[0m\u001b[1;33m)\u001b[0m\u001b[1;33m\u001b[0m\u001b[1;33m\u001b[0m\u001b[0m\n\u001b[1;32m--> 701\u001b[1;33m         super(WLS, self).__init__(endog, exog, missing=missing,\n\u001b[0m\u001b[0;32m    702\u001b[0m                                   weights=weights, hasconst=hasconst, **kwargs)\n\u001b[0;32m    703\u001b[0m         \u001b[0mnobs\u001b[0m \u001b[1;33m=\u001b[0m \u001b[0mself\u001b[0m\u001b[1;33m.\u001b[0m\u001b[0mexog\u001b[0m\u001b[1;33m.\u001b[0m\u001b[0mshape\u001b[0m\u001b[1;33m[\u001b[0m\u001b[1;36m0\u001b[0m\u001b[1;33m]\u001b[0m\u001b[1;33m\u001b[0m\u001b[1;33m\u001b[0m\u001b[0m\n",
      "\u001b[1;32m~\\anaconda3\\lib\\site-packages\\statsmodels\\regression\\linear_model.py\u001b[0m in \u001b[0;36m__init__\u001b[1;34m(self, endog, exog, **kwargs)\u001b[0m\n\u001b[0;32m    188\u001b[0m     \"\"\"\n\u001b[0;32m    189\u001b[0m     \u001b[1;32mdef\u001b[0m \u001b[0m__init__\u001b[0m\u001b[1;33m(\u001b[0m\u001b[0mself\u001b[0m\u001b[1;33m,\u001b[0m \u001b[0mendog\u001b[0m\u001b[1;33m,\u001b[0m \u001b[0mexog\u001b[0m\u001b[1;33m,\u001b[0m \u001b[1;33m**\u001b[0m\u001b[0mkwargs\u001b[0m\u001b[1;33m)\u001b[0m\u001b[1;33m:\u001b[0m\u001b[1;33m\u001b[0m\u001b[1;33m\u001b[0m\u001b[0m\n\u001b[1;32m--> 190\u001b[1;33m         \u001b[0msuper\u001b[0m\u001b[1;33m(\u001b[0m\u001b[0mRegressionModel\u001b[0m\u001b[1;33m,\u001b[0m \u001b[0mself\u001b[0m\u001b[1;33m)\u001b[0m\u001b[1;33m.\u001b[0m\u001b[0m__init__\u001b[0m\u001b[1;33m(\u001b[0m\u001b[0mendog\u001b[0m\u001b[1;33m,\u001b[0m \u001b[0mexog\u001b[0m\u001b[1;33m,\u001b[0m \u001b[1;33m**\u001b[0m\u001b[0mkwargs\u001b[0m\u001b[1;33m)\u001b[0m\u001b[1;33m\u001b[0m\u001b[1;33m\u001b[0m\u001b[0m\n\u001b[0m\u001b[0;32m    191\u001b[0m         \u001b[0mself\u001b[0m\u001b[1;33m.\u001b[0m\u001b[0m_data_attr\u001b[0m\u001b[1;33m.\u001b[0m\u001b[0mextend\u001b[0m\u001b[1;33m(\u001b[0m\u001b[1;33m[\u001b[0m\u001b[1;34m'pinv_wexog'\u001b[0m\u001b[1;33m,\u001b[0m \u001b[1;34m'wendog'\u001b[0m\u001b[1;33m,\u001b[0m \u001b[1;34m'wexog'\u001b[0m\u001b[1;33m,\u001b[0m \u001b[1;34m'weights'\u001b[0m\u001b[1;33m]\u001b[0m\u001b[1;33m)\u001b[0m\u001b[1;33m\u001b[0m\u001b[1;33m\u001b[0m\u001b[0m\n\u001b[0;32m    192\u001b[0m \u001b[1;33m\u001b[0m\u001b[0m\n",
      "\u001b[1;32m~\\anaconda3\\lib\\site-packages\\statsmodels\\base\\model.py\u001b[0m in \u001b[0;36m__init__\u001b[1;34m(self, endog, exog, **kwargs)\u001b[0m\n\u001b[0;32m    234\u001b[0m \u001b[1;33m\u001b[0m\u001b[0m\n\u001b[0;32m    235\u001b[0m     \u001b[1;32mdef\u001b[0m \u001b[0m__init__\u001b[0m\u001b[1;33m(\u001b[0m\u001b[0mself\u001b[0m\u001b[1;33m,\u001b[0m \u001b[0mendog\u001b[0m\u001b[1;33m,\u001b[0m \u001b[0mexog\u001b[0m\u001b[1;33m=\u001b[0m\u001b[1;32mNone\u001b[0m\u001b[1;33m,\u001b[0m \u001b[1;33m**\u001b[0m\u001b[0mkwargs\u001b[0m\u001b[1;33m)\u001b[0m\u001b[1;33m:\u001b[0m\u001b[1;33m\u001b[0m\u001b[1;33m\u001b[0m\u001b[0m\n\u001b[1;32m--> 236\u001b[1;33m         \u001b[0msuper\u001b[0m\u001b[1;33m(\u001b[0m\u001b[0mLikelihoodModel\u001b[0m\u001b[1;33m,\u001b[0m \u001b[0mself\u001b[0m\u001b[1;33m)\u001b[0m\u001b[1;33m.\u001b[0m\u001b[0m__init__\u001b[0m\u001b[1;33m(\u001b[0m\u001b[0mendog\u001b[0m\u001b[1;33m,\u001b[0m \u001b[0mexog\u001b[0m\u001b[1;33m,\u001b[0m \u001b[1;33m**\u001b[0m\u001b[0mkwargs\u001b[0m\u001b[1;33m)\u001b[0m\u001b[1;33m\u001b[0m\u001b[1;33m\u001b[0m\u001b[0m\n\u001b[0m\u001b[0;32m    237\u001b[0m         \u001b[0mself\u001b[0m\u001b[1;33m.\u001b[0m\u001b[0minitialize\u001b[0m\u001b[1;33m(\u001b[0m\u001b[1;33m)\u001b[0m\u001b[1;33m\u001b[0m\u001b[1;33m\u001b[0m\u001b[0m\n\u001b[0;32m    238\u001b[0m \u001b[1;33m\u001b[0m\u001b[0m\n",
      "\u001b[1;32m~\\anaconda3\\lib\\site-packages\\statsmodels\\base\\model.py\u001b[0m in \u001b[0;36m__init__\u001b[1;34m(self, endog, exog, **kwargs)\u001b[0m\n\u001b[0;32m     74\u001b[0m         \u001b[0mmissing\u001b[0m \u001b[1;33m=\u001b[0m \u001b[0mkwargs\u001b[0m\u001b[1;33m.\u001b[0m\u001b[0mpop\u001b[0m\u001b[1;33m(\u001b[0m\u001b[1;34m'missing'\u001b[0m\u001b[1;33m,\u001b[0m \u001b[1;34m'none'\u001b[0m\u001b[1;33m)\u001b[0m\u001b[1;33m\u001b[0m\u001b[1;33m\u001b[0m\u001b[0m\n\u001b[0;32m     75\u001b[0m         \u001b[0mhasconst\u001b[0m \u001b[1;33m=\u001b[0m \u001b[0mkwargs\u001b[0m\u001b[1;33m.\u001b[0m\u001b[0mpop\u001b[0m\u001b[1;33m(\u001b[0m\u001b[1;34m'hasconst'\u001b[0m\u001b[1;33m,\u001b[0m \u001b[1;32mNone\u001b[0m\u001b[1;33m)\u001b[0m\u001b[1;33m\u001b[0m\u001b[1;33m\u001b[0m\u001b[0m\n\u001b[1;32m---> 76\u001b[1;33m         self.data = self._handle_data(endog, exog, missing, hasconst,\n\u001b[0m\u001b[0;32m     77\u001b[0m                                       **kwargs)\n\u001b[0;32m     78\u001b[0m         \u001b[0mself\u001b[0m\u001b[1;33m.\u001b[0m\u001b[0mk_constant\u001b[0m \u001b[1;33m=\u001b[0m \u001b[0mself\u001b[0m\u001b[1;33m.\u001b[0m\u001b[0mdata\u001b[0m\u001b[1;33m.\u001b[0m\u001b[0mk_constant\u001b[0m\u001b[1;33m\u001b[0m\u001b[1;33m\u001b[0m\u001b[0m\n",
      "\u001b[1;32m~\\anaconda3\\lib\\site-packages\\statsmodels\\base\\model.py\u001b[0m in \u001b[0;36m_handle_data\u001b[1;34m(self, endog, exog, missing, hasconst, **kwargs)\u001b[0m\n\u001b[0;32m     98\u001b[0m \u001b[1;33m\u001b[0m\u001b[0m\n\u001b[0;32m     99\u001b[0m     \u001b[1;32mdef\u001b[0m \u001b[0m_handle_data\u001b[0m\u001b[1;33m(\u001b[0m\u001b[0mself\u001b[0m\u001b[1;33m,\u001b[0m \u001b[0mendog\u001b[0m\u001b[1;33m,\u001b[0m \u001b[0mexog\u001b[0m\u001b[1;33m,\u001b[0m \u001b[0mmissing\u001b[0m\u001b[1;33m,\u001b[0m \u001b[0mhasconst\u001b[0m\u001b[1;33m,\u001b[0m \u001b[1;33m**\u001b[0m\u001b[0mkwargs\u001b[0m\u001b[1;33m)\u001b[0m\u001b[1;33m:\u001b[0m\u001b[1;33m\u001b[0m\u001b[1;33m\u001b[0m\u001b[0m\n\u001b[1;32m--> 100\u001b[1;33m         \u001b[0mdata\u001b[0m \u001b[1;33m=\u001b[0m \u001b[0mhandle_data\u001b[0m\u001b[1;33m(\u001b[0m\u001b[0mendog\u001b[0m\u001b[1;33m,\u001b[0m \u001b[0mexog\u001b[0m\u001b[1;33m,\u001b[0m \u001b[0mmissing\u001b[0m\u001b[1;33m,\u001b[0m \u001b[0mhasconst\u001b[0m\u001b[1;33m,\u001b[0m \u001b[1;33m**\u001b[0m\u001b[0mkwargs\u001b[0m\u001b[1;33m)\u001b[0m\u001b[1;33m\u001b[0m\u001b[1;33m\u001b[0m\u001b[0m\n\u001b[0m\u001b[0;32m    101\u001b[0m         \u001b[1;31m# kwargs arrays could have changed, easier to just attach here\u001b[0m\u001b[1;33m\u001b[0m\u001b[1;33m\u001b[0m\u001b[1;33m\u001b[0m\u001b[0m\n\u001b[0;32m    102\u001b[0m         \u001b[1;32mfor\u001b[0m \u001b[0mkey\u001b[0m \u001b[1;32min\u001b[0m \u001b[0mkwargs\u001b[0m\u001b[1;33m:\u001b[0m\u001b[1;33m\u001b[0m\u001b[1;33m\u001b[0m\u001b[0m\n",
      "\u001b[1;32m~\\anaconda3\\lib\\site-packages\\statsmodels\\base\\data.py\u001b[0m in \u001b[0;36mhandle_data\u001b[1;34m(endog, exog, missing, hasconst, **kwargs)\u001b[0m\n\u001b[0;32m    669\u001b[0m \u001b[1;33m\u001b[0m\u001b[0m\n\u001b[0;32m    670\u001b[0m     \u001b[0mklass\u001b[0m \u001b[1;33m=\u001b[0m \u001b[0mhandle_data_class_factory\u001b[0m\u001b[1;33m(\u001b[0m\u001b[0mendog\u001b[0m\u001b[1;33m,\u001b[0m \u001b[0mexog\u001b[0m\u001b[1;33m)\u001b[0m\u001b[1;33m\u001b[0m\u001b[1;33m\u001b[0m\u001b[0m\n\u001b[1;32m--> 671\u001b[1;33m     return klass(endog, exog=exog, missing=missing, hasconst=hasconst,\n\u001b[0m\u001b[0;32m    672\u001b[0m                  **kwargs)\n",
      "\u001b[1;32m~\\anaconda3\\lib\\site-packages\\statsmodels\\base\\data.py\u001b[0m in \u001b[0;36m__init__\u001b[1;34m(self, endog, exog, missing, hasconst, **kwargs)\u001b[0m\n\u001b[0;32m     81\u001b[0m             \u001b[0mself\u001b[0m\u001b[1;33m.\u001b[0m\u001b[0morig_endog\u001b[0m \u001b[1;33m=\u001b[0m \u001b[0mendog\u001b[0m\u001b[1;33m\u001b[0m\u001b[1;33m\u001b[0m\u001b[0m\n\u001b[0;32m     82\u001b[0m             \u001b[0mself\u001b[0m\u001b[1;33m.\u001b[0m\u001b[0morig_exog\u001b[0m \u001b[1;33m=\u001b[0m \u001b[0mexog\u001b[0m\u001b[1;33m\u001b[0m\u001b[1;33m\u001b[0m\u001b[0m\n\u001b[1;32m---> 83\u001b[1;33m             \u001b[0mself\u001b[0m\u001b[1;33m.\u001b[0m\u001b[0mendog\u001b[0m\u001b[1;33m,\u001b[0m \u001b[0mself\u001b[0m\u001b[1;33m.\u001b[0m\u001b[0mexog\u001b[0m \u001b[1;33m=\u001b[0m \u001b[0mself\u001b[0m\u001b[1;33m.\u001b[0m\u001b[0m_convert_endog_exog\u001b[0m\u001b[1;33m(\u001b[0m\u001b[0mendog\u001b[0m\u001b[1;33m,\u001b[0m \u001b[0mexog\u001b[0m\u001b[1;33m)\u001b[0m\u001b[1;33m\u001b[0m\u001b[1;33m\u001b[0m\u001b[0m\n\u001b[0m\u001b[0;32m     84\u001b[0m \u001b[1;33m\u001b[0m\u001b[0m\n\u001b[0;32m     85\u001b[0m         \u001b[0mself\u001b[0m\u001b[1;33m.\u001b[0m\u001b[0mconst_idx\u001b[0m \u001b[1;33m=\u001b[0m \u001b[1;32mNone\u001b[0m\u001b[1;33m\u001b[0m\u001b[1;33m\u001b[0m\u001b[0m\n",
      "\u001b[1;32m~\\anaconda3\\lib\\site-packages\\statsmodels\\base\\data.py\u001b[0m in \u001b[0;36m_convert_endog_exog\u001b[1;34m(self, endog, exog)\u001b[0m\n\u001b[0;32m    506\u001b[0m         \u001b[0mexog\u001b[0m \u001b[1;33m=\u001b[0m \u001b[0mexog\u001b[0m \u001b[1;32mif\u001b[0m \u001b[0mexog\u001b[0m \u001b[1;32mis\u001b[0m \u001b[1;32mNone\u001b[0m \u001b[1;32melse\u001b[0m \u001b[0mnp\u001b[0m\u001b[1;33m.\u001b[0m\u001b[0masarray\u001b[0m\u001b[1;33m(\u001b[0m\u001b[0mexog\u001b[0m\u001b[1;33m)\u001b[0m\u001b[1;33m\u001b[0m\u001b[1;33m\u001b[0m\u001b[0m\n\u001b[0;32m    507\u001b[0m         \u001b[1;32mif\u001b[0m \u001b[0mendog\u001b[0m\u001b[1;33m.\u001b[0m\u001b[0mdtype\u001b[0m \u001b[1;33m==\u001b[0m \u001b[0mobject\u001b[0m \u001b[1;32mor\u001b[0m \u001b[0mexog\u001b[0m \u001b[1;32mis\u001b[0m \u001b[1;32mnot\u001b[0m \u001b[1;32mNone\u001b[0m \u001b[1;32mand\u001b[0m \u001b[0mexog\u001b[0m\u001b[1;33m.\u001b[0m\u001b[0mdtype\u001b[0m \u001b[1;33m==\u001b[0m \u001b[0mobject\u001b[0m\u001b[1;33m:\u001b[0m\u001b[1;33m\u001b[0m\u001b[1;33m\u001b[0m\u001b[0m\n\u001b[1;32m--> 508\u001b[1;33m             raise ValueError(\"Pandas data cast to numpy dtype of object. \"\n\u001b[0m\u001b[0;32m    509\u001b[0m                              \"Check input data with np.asarray(data).\")\n\u001b[0;32m    510\u001b[0m         \u001b[1;32mreturn\u001b[0m \u001b[0msuper\u001b[0m\u001b[1;33m(\u001b[0m\u001b[0mPandasData\u001b[0m\u001b[1;33m,\u001b[0m \u001b[0mself\u001b[0m\u001b[1;33m)\u001b[0m\u001b[1;33m.\u001b[0m\u001b[0m_convert_endog_exog\u001b[0m\u001b[1;33m(\u001b[0m\u001b[0mendog\u001b[0m\u001b[1;33m,\u001b[0m \u001b[0mexog\u001b[0m\u001b[1;33m)\u001b[0m\u001b[1;33m\u001b[0m\u001b[1;33m\u001b[0m\u001b[0m\n",
      "\u001b[1;31mValueError\u001b[0m: Pandas data cast to numpy dtype of object. Check input data with np.asarray(data)."
     ]
    }
   ],
   "source": [
    "# show boxplot of ten runs\n",
    "\n",
    "plt.boxplot([mses1, mses2, mses3])\n",
    "#plt.boxplot(mses1)\n",
    "plt.show()\n",
    "\n",
    "import statsmodels.api as sm\n",
    "# Function to calculate VIF\n",
    "def calculate_vif(data):\n",
    "    vif_df = pd.DataFrame(columns = ['Var', 'Vif'])\n",
    "    x_var_names = data.columns\n",
    "    for i in range(0, x_var_names.shape[0]):\n",
    "        y = data[x_var_names[i]]\n",
    "        x = data[x_var_names.drop([x_var_names[i]])]\n",
    "        r_squared = sm.OLS(y,x).fit().rsquared\n",
    "        vif = round(1/(1-r_squared),2)\n",
    "        vif_df.loc[i] = [x_var_names[i], vif]\n",
    "    return vif_df.sort_values(by = 'Vif', axis = 0, ascending=False, inplace=False)\n",
    "\n",
    "X=df.drop(['rating'],axis=1)\n",
    "calculate_vif(X)\n"
   ]
  },
  {
   "cell_type": "code",
   "execution_count": null,
   "metadata": {},
   "outputs": [],
   "source": [
    "\n",
    "X = df.drop(['rating', 'Action'], axis=1)\n",
    "calculate_vif(X)"
   ]
  },
  {
   "cell_type": "code",
   "execution_count": null,
   "metadata": {},
   "outputs": [],
   "source": [
    "rfc = RandomForestRegressor()\n",
    "rfc.fit(X_train, y_train)\n",
    "ypred = rfc.predict(X_test)\n",
    "print('Mean Squared Error (MSE): ' + str(mean_squared_error(y_test, ypred)))"
   ]
  },
  {
   "cell_type": "code",
   "execution_count": null,
   "metadata": {},
   "outputs": [],
   "source": [
    "rfc = RandomForestRegressor()\n",
    "parameters = {'n_estimators':[10, 20], \n",
    "              'criterion':[\"mse\", \"mae\"]\n",
    "             }\n",
    "clf = GridSearchCV(rfc, parameters)\n",
    "clf.fit(X_train, y_train)\n",
    "print(\"The best features are: \" + str(clf.best_params_))\n",
    "print(\"random forest roc_auc_score: \" + str(roc_auc_score(y_test, clf.best_estimator_.predict_proba(X_test)[:, 1])))\n",
    "print('Mean Squared Error (MSE): ' + str(mean_squared_error(y_test, clf.best_estimator__.predict_proba(X_test)[:, 1])))\n",
    "\n",
    "\n",
    "plot_confusion_matrix(clf.best_estimator_, X_test, y_test)  \n",
    "plt.show()\n"
   ]
  },
  {
   "cell_type": "code",
   "execution_count": null,
   "metadata": {},
   "outputs": [],
   "source": []
  }
 ],
 "metadata": {
  "kernelspec": {
   "display_name": "Python 3",
   "language": "python",
   "name": "python3"
  },
  "language_info": {
   "codemirror_mode": {
    "name": "ipython",
    "version": 3
   },
   "file_extension": ".py",
   "mimetype": "text/x-python",
   "name": "python",
   "nbconvert_exporter": "python",
   "pygments_lexer": "ipython3",
   "version": "3.8.3"
  }
 },
 "nbformat": 4,
 "nbformat_minor": 4
}
